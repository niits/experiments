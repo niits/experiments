{
 "cells": [
  {
   "cell_type": "code",
   "execution_count": 1,
   "id": "7d5e3257",
   "metadata": {},
   "outputs": [
    {
     "name": "stdout",
     "output_type": "stream",
     "text": [
      "Requirement already satisfied: vnstock in /Users/niits/miniconda3/envs/test-modal/lib/python3.12/site-packages (3.2.6)\n",
      "Requirement already satisfied: llama_index in /Users/niits/miniconda3/envs/test-modal/lib/python3.12/site-packages (0.12.43)\n",
      "Requirement already satisfied: pandas in /Users/niits/miniconda3/envs/test-modal/lib/python3.12/site-packages (2.2.3)\n",
      "Requirement already satisfied: plotly in /Users/niits/miniconda3/envs/test-modal/lib/python3.12/site-packages (6.1.2)\n",
      "Requirement already satisfied: sqlite-vec in /Users/niits/miniconda3/envs/test-modal/lib/python3.12/site-packages (0.1.6)\n",
      "Requirement already satisfied: tabulate in /Users/niits/miniconda3/envs/test-modal/lib/python3.12/site-packages (0.9.0)\n",
      "Requirement already satisfied: llama-index-experimental in /Users/niits/miniconda3/envs/test-modal/lib/python3.12/site-packages (0.5.6)\n",
      "Requirement already satisfied: llama-index-callbacks-langfuse in /Users/niits/miniconda3/envs/test-modal/lib/python3.12/site-packages (0.3.0)\n",
      "Requirement already satisfied: nbformat>=4.2.0 in /Users/niits/miniconda3/envs/test-modal/lib/python3.12/site-packages (5.10.4)\n",
      "Requirement already satisfied: requests in /Users/niits/miniconda3/envs/test-modal/lib/python3.12/site-packages (from vnstock) (2.32.4)\n",
      "Requirement already satisfied: beautifulsoup4 in /Users/niits/miniconda3/envs/test-modal/lib/python3.12/site-packages (from vnstock) (4.13.4)\n",
      "Requirement already satisfied: seaborn in /Users/niits/miniconda3/envs/test-modal/lib/python3.12/site-packages (from vnstock) (0.13.2)\n",
      "Requirement already satisfied: openpyxl in /Users/niits/miniconda3/envs/test-modal/lib/python3.12/site-packages (from vnstock) (3.1.5)\n",
      "Requirement already satisfied: pydantic in /Users/niits/miniconda3/envs/test-modal/lib/python3.12/site-packages (from vnstock) (2.11.7)\n",
      "Requirement already satisfied: psutil in /Users/niits/miniconda3/envs/test-modal/lib/python3.12/site-packages (from vnstock) (5.9.0)\n",
      "Requirement already satisfied: fake_useragent in /Users/niits/miniconda3/envs/test-modal/lib/python3.12/site-packages (from vnstock) (2.2.0)\n",
      "Requirement already satisfied: vnstock_ezchart in /Users/niits/miniconda3/envs/test-modal/lib/python3.12/site-packages (from vnstock) (0.0.2)\n",
      "Requirement already satisfied: click in /Users/niits/miniconda3/envs/test-modal/lib/python3.12/site-packages (from vnstock) (8.1.8)\n",
      "Requirement already satisfied: packaging>=20.0 in /Users/niits/miniconda3/envs/test-modal/lib/python3.12/site-packages (from vnstock) (24.2)\n",
      "Requirement already satisfied: importlib-metadata>=1.0 in /Users/niits/miniconda3/envs/test-modal/lib/python3.12/site-packages (from vnstock) (8.6.1)\n",
      "Requirement already satisfied: tenacity in /Users/niits/miniconda3/envs/test-modal/lib/python3.12/site-packages (from vnstock) (9.1.2)\n",
      "Requirement already satisfied: vnai>=2.0.3 in /Users/niits/miniconda3/envs/test-modal/lib/python3.12/site-packages (from vnstock) (2.0.4)\n",
      "Requirement already satisfied: llama-index-agent-openai<0.5,>=0.4.0 in /Users/niits/miniconda3/envs/test-modal/lib/python3.12/site-packages (from llama_index) (0.4.11)\n",
      "Requirement already satisfied: llama-index-cli<0.5,>=0.4.2 in /Users/niits/miniconda3/envs/test-modal/lib/python3.12/site-packages (from llama_index) (0.4.3)\n",
      "Requirement already satisfied: llama-index-core<0.13,>=0.12.43 in /Users/niits/miniconda3/envs/test-modal/lib/python3.12/site-packages (from llama_index) (0.12.43)\n",
      "Requirement already satisfied: llama-index-embeddings-openai<0.4,>=0.3.0 in /Users/niits/miniconda3/envs/test-modal/lib/python3.12/site-packages (from llama_index) (0.3.1)\n",
      "Requirement already satisfied: llama-index-indices-managed-llama-cloud>=0.4.0 in /Users/niits/miniconda3/envs/test-modal/lib/python3.12/site-packages (from llama_index) (0.7.7)\n",
      "Requirement already satisfied: llama-index-llms-openai<0.5,>=0.4.0 in /Users/niits/miniconda3/envs/test-modal/lib/python3.12/site-packages (from llama_index) (0.4.7)\n",
      "Requirement already satisfied: llama-index-multi-modal-llms-openai<0.6,>=0.5.0 in /Users/niits/miniconda3/envs/test-modal/lib/python3.12/site-packages (from llama_index) (0.5.1)\n",
      "Requirement already satisfied: llama-index-program-openai<0.4,>=0.3.0 in /Users/niits/miniconda3/envs/test-modal/lib/python3.12/site-packages (from llama_index) (0.3.2)\n",
      "Requirement already satisfied: llama-index-question-gen-openai<0.4,>=0.3.0 in /Users/niits/miniconda3/envs/test-modal/lib/python3.12/site-packages (from llama_index) (0.3.1)\n",
      "Requirement already satisfied: llama-index-readers-file<0.5,>=0.4.0 in /Users/niits/miniconda3/envs/test-modal/lib/python3.12/site-packages (from llama_index) (0.4.9)\n",
      "Requirement already satisfied: llama-index-readers-llama-parse>=0.4.0 in /Users/niits/miniconda3/envs/test-modal/lib/python3.12/site-packages (from llama_index) (0.4.0)\n",
      "Requirement already satisfied: nltk>3.8.1 in /Users/niits/miniconda3/envs/test-modal/lib/python3.12/site-packages (from llama_index) (3.9.1)\n",
      "Requirement already satisfied: openai>=1.14.0 in /Users/niits/miniconda3/envs/test-modal/lib/python3.12/site-packages (from llama-index-agent-openai<0.5,>=0.4.0->llama_index) (1.90.0)\n",
      "Requirement already satisfied: aiohttp<4,>=3.8.6 in /Users/niits/miniconda3/envs/test-modal/lib/python3.12/site-packages (from llama-index-core<0.13,>=0.12.43->llama_index) (3.12.13)\n",
      "Requirement already satisfied: aiosqlite in /Users/niits/miniconda3/envs/test-modal/lib/python3.12/site-packages (from llama-index-core<0.13,>=0.12.43->llama_index) (0.21.0)\n",
      "Requirement already satisfied: banks<3,>=2.0.0 in /Users/niits/miniconda3/envs/test-modal/lib/python3.12/site-packages (from llama-index-core<0.13,>=0.12.43->llama_index) (2.1.2)\n",
      "Requirement already satisfied: dataclasses-json in /Users/niits/miniconda3/envs/test-modal/lib/python3.12/site-packages (from llama-index-core<0.13,>=0.12.43->llama_index) (0.6.7)\n",
      "Requirement already satisfied: deprecated>=1.2.9.3 in /Users/niits/miniconda3/envs/test-modal/lib/python3.12/site-packages (from llama-index-core<0.13,>=0.12.43->llama_index) (1.2.18)\n",
      "Requirement already satisfied: dirtyjson<2,>=1.0.8 in /Users/niits/miniconda3/envs/test-modal/lib/python3.12/site-packages (from llama-index-core<0.13,>=0.12.43->llama_index) (1.0.8)\n",
      "Requirement already satisfied: filetype<2,>=1.2.0 in /Users/niits/miniconda3/envs/test-modal/lib/python3.12/site-packages (from llama-index-core<0.13,>=0.12.43->llama_index) (1.2.0)\n",
      "Requirement already satisfied: fsspec>=2023.5.0 in /Users/niits/miniconda3/envs/test-modal/lib/python3.12/site-packages (from llama-index-core<0.13,>=0.12.43->llama_index) (2025.5.1)\n",
      "Requirement already satisfied: httpx in /Users/niits/miniconda3/envs/test-modal/lib/python3.12/site-packages (from llama-index-core<0.13,>=0.12.43->llama_index) (0.28.1)\n",
      "Requirement already satisfied: llama-index-workflows>=0.2.1 in /Users/niits/miniconda3/envs/test-modal/lib/python3.12/site-packages (from llama-index-core<0.13,>=0.12.43->llama_index) (0.2.2)\n",
      "Requirement already satisfied: nest-asyncio<2,>=1.5.8 in /Users/niits/miniconda3/envs/test-modal/lib/python3.12/site-packages (from llama-index-core<0.13,>=0.12.43->llama_index) (1.6.0)\n",
      "Requirement already satisfied: networkx>=3.0 in /Users/niits/miniconda3/envs/test-modal/lib/python3.12/site-packages (from llama-index-core<0.13,>=0.12.43->llama_index) (3.5)\n",
      "Requirement already satisfied: numpy in /Users/niits/miniconda3/envs/test-modal/lib/python3.12/site-packages (from llama-index-core<0.13,>=0.12.43->llama_index) (2.3.1)\n",
      "Requirement already satisfied: pillow>=9.0.0 in /Users/niits/miniconda3/envs/test-modal/lib/python3.12/site-packages (from llama-index-core<0.13,>=0.12.43->llama_index) (11.2.1)\n",
      "Requirement already satisfied: pyyaml>=6.0.1 in /Users/niits/miniconda3/envs/test-modal/lib/python3.12/site-packages (from llama-index-core<0.13,>=0.12.43->llama_index) (6.0.2)\n",
      "Requirement already satisfied: setuptools>=80.9.0 in /Users/niits/miniconda3/envs/test-modal/lib/python3.12/site-packages (from llama-index-core<0.13,>=0.12.43->llama_index) (80.9.0)\n",
      "Requirement already satisfied: sqlalchemy>=1.4.49 in /Users/niits/miniconda3/envs/test-modal/lib/python3.12/site-packages (from sqlalchemy[asyncio]>=1.4.49->llama-index-core<0.13,>=0.12.43->llama_index) (2.0.41)\n",
      "Requirement already satisfied: tiktoken>=0.7.0 in /Users/niits/miniconda3/envs/test-modal/lib/python3.12/site-packages (from llama-index-core<0.13,>=0.12.43->llama_index) (0.9.0)\n",
      "Requirement already satisfied: tqdm<5,>=4.66.1 in /Users/niits/miniconda3/envs/test-modal/lib/python3.12/site-packages (from llama-index-core<0.13,>=0.12.43->llama_index) (4.67.1)\n",
      "Requirement already satisfied: typing-extensions>=4.5.0 in /Users/niits/miniconda3/envs/test-modal/lib/python3.12/site-packages (from llama-index-core<0.13,>=0.12.43->llama_index) (4.14.0)\n",
      "Requirement already satisfied: typing-inspect>=0.8.0 in /Users/niits/miniconda3/envs/test-modal/lib/python3.12/site-packages (from llama-index-core<0.13,>=0.12.43->llama_index) (0.9.0)\n",
      "Requirement already satisfied: wrapt in /Users/niits/miniconda3/envs/test-modal/lib/python3.12/site-packages (from llama-index-core<0.13,>=0.12.43->llama_index) (1.17.2)\n",
      "Requirement already satisfied: aiohappyeyeballs>=2.5.0 in /Users/niits/miniconda3/envs/test-modal/lib/python3.12/site-packages (from aiohttp<4,>=3.8.6->llama-index-core<0.13,>=0.12.43->llama_index) (2.6.1)\n",
      "Requirement already satisfied: aiosignal>=1.1.2 in /Users/niits/miniconda3/envs/test-modal/lib/python3.12/site-packages (from aiohttp<4,>=3.8.6->llama-index-core<0.13,>=0.12.43->llama_index) (1.3.2)\n",
      "Requirement already satisfied: attrs>=17.3.0 in /Users/niits/miniconda3/envs/test-modal/lib/python3.12/site-packages (from aiohttp<4,>=3.8.6->llama-index-core<0.13,>=0.12.43->llama_index) (25.3.0)\n",
      "Requirement already satisfied: frozenlist>=1.1.1 in /Users/niits/miniconda3/envs/test-modal/lib/python3.12/site-packages (from aiohttp<4,>=3.8.6->llama-index-core<0.13,>=0.12.43->llama_index) (1.7.0)\n",
      "Requirement already satisfied: multidict<7.0,>=4.5 in /Users/niits/miniconda3/envs/test-modal/lib/python3.12/site-packages (from aiohttp<4,>=3.8.6->llama-index-core<0.13,>=0.12.43->llama_index) (6.5.0)\n",
      "Requirement already satisfied: propcache>=0.2.0 in /Users/niits/miniconda3/envs/test-modal/lib/python3.12/site-packages (from aiohttp<4,>=3.8.6->llama-index-core<0.13,>=0.12.43->llama_index) (0.3.2)\n",
      "Requirement already satisfied: yarl<2.0,>=1.17.0 in /Users/niits/miniconda3/envs/test-modal/lib/python3.12/site-packages (from aiohttp<4,>=3.8.6->llama-index-core<0.13,>=0.12.43->llama_index) (1.20.1)\n",
      "Requirement already satisfied: griffe in /Users/niits/miniconda3/envs/test-modal/lib/python3.12/site-packages (from banks<3,>=2.0.0->llama-index-core<0.13,>=0.12.43->llama_index) (1.7.3)\n",
      "Requirement already satisfied: jinja2 in /Users/niits/miniconda3/envs/test-modal/lib/python3.12/site-packages (from banks<3,>=2.0.0->llama-index-core<0.13,>=0.12.43->llama_index) (3.1.6)\n",
      "Requirement already satisfied: platformdirs in /Users/niits/miniconda3/envs/test-modal/lib/python3.12/site-packages (from banks<3,>=2.0.0->llama-index-core<0.13,>=0.12.43->llama_index) (4.3.8)\n",
      "Requirement already satisfied: pypdf<6,>=5.1.0 in /Users/niits/miniconda3/envs/test-modal/lib/python3.12/site-packages (from llama-index-readers-file<0.5,>=0.4.0->llama_index) (5.6.0)\n",
      "Requirement already satisfied: striprtf<0.0.27,>=0.0.26 in /Users/niits/miniconda3/envs/test-modal/lib/python3.12/site-packages (from llama-index-readers-file<0.5,>=0.4.0->llama_index) (0.0.26)\n",
      "Requirement already satisfied: python-dateutil>=2.8.2 in /Users/niits/miniconda3/envs/test-modal/lib/python3.12/site-packages (from pandas) (2.9.0.post0)\n",
      "Requirement already satisfied: pytz>=2020.1 in /Users/niits/miniconda3/envs/test-modal/lib/python3.12/site-packages (from pandas) (2025.2)\n",
      "Requirement already satisfied: tzdata>=2022.7 in /Users/niits/miniconda3/envs/test-modal/lib/python3.12/site-packages (from pandas) (2025.2)\n",
      "Requirement already satisfied: soupsieve>1.2 in /Users/niits/miniconda3/envs/test-modal/lib/python3.12/site-packages (from beautifulsoup4->vnstock) (2.7)\n",
      "Requirement already satisfied: anyio<5,>=3.5.0 in /Users/niits/miniconda3/envs/test-modal/lib/python3.12/site-packages (from openai>=1.14.0->llama-index-agent-openai<0.5,>=0.4.0->llama_index) (4.9.0)\n",
      "Requirement already satisfied: distro<2,>=1.7.0 in /Users/niits/miniconda3/envs/test-modal/lib/python3.12/site-packages (from openai>=1.14.0->llama-index-agent-openai<0.5,>=0.4.0->llama_index) (1.9.0)\n",
      "Requirement already satisfied: jiter<1,>=0.4.0 in /Users/niits/miniconda3/envs/test-modal/lib/python3.12/site-packages (from openai>=1.14.0->llama-index-agent-openai<0.5,>=0.4.0->llama_index) (0.10.0)\n",
      "Requirement already satisfied: sniffio in /Users/niits/miniconda3/envs/test-modal/lib/python3.12/site-packages (from openai>=1.14.0->llama-index-agent-openai<0.5,>=0.4.0->llama_index) (1.3.1)\n",
      "Requirement already satisfied: idna>=2.8 in /Users/niits/miniconda3/envs/test-modal/lib/python3.12/site-packages (from anyio<5,>=3.5.0->openai>=1.14.0->llama-index-agent-openai<0.5,>=0.4.0->llama_index) (3.10)\n",
      "Requirement already satisfied: certifi in /Users/niits/miniconda3/envs/test-modal/lib/python3.12/site-packages (from httpx->llama-index-core<0.13,>=0.12.43->llama_index) (2025.6.15)\n",
      "Requirement already satisfied: httpcore==1.* in /Users/niits/miniconda3/envs/test-modal/lib/python3.12/site-packages (from httpx->llama-index-core<0.13,>=0.12.43->llama_index) (1.0.9)\n",
      "Requirement already satisfied: h11>=0.16 in /Users/niits/miniconda3/envs/test-modal/lib/python3.12/site-packages (from httpcore==1.*->httpx->llama-index-core<0.13,>=0.12.43->llama_index) (0.16.0)\n",
      "Requirement already satisfied: annotated-types>=0.6.0 in /Users/niits/miniconda3/envs/test-modal/lib/python3.12/site-packages (from pydantic->vnstock) (0.7.0)\n",
      "Requirement already satisfied: pydantic-core==2.33.2 in /Users/niits/miniconda3/envs/test-modal/lib/python3.12/site-packages (from pydantic->vnstock) (2.33.2)\n",
      "Requirement already satisfied: typing-inspection>=0.4.0 in /Users/niits/miniconda3/envs/test-modal/lib/python3.12/site-packages (from pydantic->vnstock) (0.4.1)\n",
      "Requirement already satisfied: narwhals>=1.15.1 in /Users/niits/miniconda3/envs/test-modal/lib/python3.12/site-packages (from plotly) (1.43.1)\n",
      "Requirement already satisfied: duckdb<2,>=1.0.0 in /Users/niits/miniconda3/envs/test-modal/lib/python3.12/site-packages (from llama-index-experimental) (1.3.1)\n",
      "Requirement already satisfied: llama-index-finetuning<0.4,>=0.3.2 in /Users/niits/miniconda3/envs/test-modal/lib/python3.12/site-packages (from llama-index-experimental) (0.3.2)\n",
      "Requirement already satisfied: llama-index-embeddings-adapter<0.4.0,>=0.3.0 in /Users/niits/miniconda3/envs/test-modal/lib/python3.12/site-packages (from llama-index-finetuning<0.4,>=0.3.2->llama-index-experimental) (0.3.0)\n",
      "Requirement already satisfied: llama-index-llms-azure-openai<0.4.0,>=0.3.0 in /Users/niits/miniconda3/envs/test-modal/lib/python3.12/site-packages (from llama-index-finetuning<0.4,>=0.3.2->llama-index-experimental) (0.3.4)\n",
      "Requirement already satisfied: llama-index-llms-mistralai<0.5.0,>=0.4.0 in /Users/niits/miniconda3/envs/test-modal/lib/python3.12/site-packages (from llama-index-finetuning<0.4,>=0.3.2->llama-index-experimental) (0.4.0)\n",
      "Requirement already satisfied: llama-index-postprocessor-cohere-rerank<0.4.0,>=0.3.0 in /Users/niits/miniconda3/envs/test-modal/lib/python3.12/site-packages (from llama-index-finetuning<0.4,>=0.3.2->llama-index-experimental) (0.3.0)\n",
      "Requirement already satisfied: sentence-transformers>=2.3.0 in /Users/niits/miniconda3/envs/test-modal/lib/python3.12/site-packages (from llama-index-finetuning<0.4,>=0.3.2->llama-index-experimental) (4.1.0)\n",
      "Requirement already satisfied: torch>=2.0.0 in /Users/niits/miniconda3/envs/test-modal/lib/python3.12/site-packages (from llama-index-embeddings-adapter<0.4.0,>=0.3.0->llama-index-finetuning<0.4,>=0.3.2->llama-index-experimental) (2.7.1)\n",
      "Requirement already satisfied: azure-identity<2,>=1.15.0 in /Users/niits/miniconda3/envs/test-modal/lib/python3.12/site-packages (from llama-index-llms-azure-openai<0.4.0,>=0.3.0->llama-index-finetuning<0.4,>=0.3.2->llama-index-experimental) (1.23.0)\n",
      "Requirement already satisfied: azure-core>=1.31.0 in /Users/niits/miniconda3/envs/test-modal/lib/python3.12/site-packages (from azure-identity<2,>=1.15.0->llama-index-llms-azure-openai<0.4.0,>=0.3.0->llama-index-finetuning<0.4,>=0.3.2->llama-index-experimental) (1.34.0)\n",
      "Requirement already satisfied: cryptography>=2.5 in /Users/niits/miniconda3/envs/test-modal/lib/python3.12/site-packages (from azure-identity<2,>=1.15.0->llama-index-llms-azure-openai<0.4.0,>=0.3.0->llama-index-finetuning<0.4,>=0.3.2->llama-index-experimental) (45.0.4)\n",
      "Requirement already satisfied: msal>=1.30.0 in /Users/niits/miniconda3/envs/test-modal/lib/python3.12/site-packages (from azure-identity<2,>=1.15.0->llama-index-llms-azure-openai<0.4.0,>=0.3.0->llama-index-finetuning<0.4,>=0.3.2->llama-index-experimental) (1.32.3)\n",
      "Requirement already satisfied: msal-extensions>=1.2.0 in /Users/niits/miniconda3/envs/test-modal/lib/python3.12/site-packages (from azure-identity<2,>=1.15.0->llama-index-llms-azure-openai<0.4.0,>=0.3.0->llama-index-finetuning<0.4,>=0.3.2->llama-index-experimental) (1.3.1)\n",
      "Requirement already satisfied: mistralai>=1.0.0 in /Users/niits/miniconda3/envs/test-modal/lib/python3.12/site-packages (from llama-index-llms-mistralai<0.5.0,>=0.4.0->llama-index-finetuning<0.4,>=0.3.2->llama-index-experimental) (1.8.2)\n",
      "Requirement already satisfied: cohere<6.0.0,>=5.1.1 in /Users/niits/miniconda3/envs/test-modal/lib/python3.12/site-packages (from llama-index-postprocessor-cohere-rerank<0.4.0,>=0.3.0->llama-index-finetuning<0.4,>=0.3.2->llama-index-experimental) (5.15.0)\n",
      "Requirement already satisfied: fastavro<2.0.0,>=1.9.4 in /Users/niits/miniconda3/envs/test-modal/lib/python3.12/site-packages (from cohere<6.0.0,>=5.1.1->llama-index-postprocessor-cohere-rerank<0.4.0,>=0.3.0->llama-index-finetuning<0.4,>=0.3.2->llama-index-experimental) (1.11.1)\n",
      "Requirement already satisfied: httpx-sse==0.4.0 in /Users/niits/miniconda3/envs/test-modal/lib/python3.12/site-packages (from cohere<6.0.0,>=5.1.1->llama-index-postprocessor-cohere-rerank<0.4.0,>=0.3.0->llama-index-finetuning<0.4,>=0.3.2->llama-index-experimental) (0.4.0)\n",
      "Requirement already satisfied: tokenizers<1,>=0.15 in /Users/niits/miniconda3/envs/test-modal/lib/python3.12/site-packages (from cohere<6.0.0,>=5.1.1->llama-index-postprocessor-cohere-rerank<0.4.0,>=0.3.0->llama-index-finetuning<0.4,>=0.3.2->llama-index-experimental) (0.21.1)\n",
      "Requirement already satisfied: types-requests<3.0.0,>=2.0.0 in /Users/niits/miniconda3/envs/test-modal/lib/python3.12/site-packages (from cohere<6.0.0,>=5.1.1->llama-index-postprocessor-cohere-rerank<0.4.0,>=0.3.0->llama-index-finetuning<0.4,>=0.3.2->llama-index-experimental) (2.32.4.20250611)\n",
      "Requirement already satisfied: charset_normalizer<4,>=2 in /Users/niits/miniconda3/envs/test-modal/lib/python3.12/site-packages (from requests->vnstock) (3.4.2)\n",
      "Requirement already satisfied: urllib3<3,>=1.21.1 in /Users/niits/miniconda3/envs/test-modal/lib/python3.12/site-packages (from requests->vnstock) (2.5.0)\n",
      "Requirement already satisfied: huggingface-hub<1.0,>=0.16.4 in /Users/niits/miniconda3/envs/test-modal/lib/python3.12/site-packages (from tokenizers<1,>=0.15->cohere<6.0.0,>=5.1.1->llama-index-postprocessor-cohere-rerank<0.4.0,>=0.3.0->llama-index-finetuning<0.4,>=0.3.2->llama-index-experimental) (0.33.0)\n",
      "Requirement already satisfied: filelock in /Users/niits/miniconda3/envs/test-modal/lib/python3.12/site-packages (from huggingface-hub<1.0,>=0.16.4->tokenizers<1,>=0.15->cohere<6.0.0,>=5.1.1->llama-index-postprocessor-cohere-rerank<0.4.0,>=0.3.0->llama-index-finetuning<0.4,>=0.3.2->llama-index-experimental) (3.18.0)\n",
      "Requirement already satisfied: hf-xet<2.0.0,>=1.1.2 in /Users/niits/miniconda3/envs/test-modal/lib/python3.12/site-packages (from huggingface-hub<1.0,>=0.16.4->tokenizers<1,>=0.15->cohere<6.0.0,>=5.1.1->llama-index-postprocessor-cohere-rerank<0.4.0,>=0.3.0->llama-index-finetuning<0.4,>=0.3.2->llama-index-experimental) (1.1.5)\n",
      "Requirement already satisfied: langfuse<3.0.0,>=2.21.2 in /Users/niits/miniconda3/envs/test-modal/lib/python3.12/site-packages (from llama-index-callbacks-langfuse) (2.60.8)\n",
      "Requirement already satisfied: backoff>=1.10.0 in /Users/niits/miniconda3/envs/test-modal/lib/python3.12/site-packages (from langfuse<3.0.0,>=2.21.2->llama-index-callbacks-langfuse) (2.2.1)\n",
      "Requirement already satisfied: fastjsonschema>=2.15 in /Users/niits/miniconda3/envs/test-modal/lib/python3.12/site-packages (from nbformat>=4.2.0) (2.21.1)\n",
      "Requirement already satisfied: jsonschema>=2.6 in /Users/niits/miniconda3/envs/test-modal/lib/python3.12/site-packages (from nbformat>=4.2.0) (4.24.0)\n",
      "Requirement already satisfied: jupyter-core!=5.0.*,>=4.12 in /Users/niits/miniconda3/envs/test-modal/lib/python3.12/site-packages (from nbformat>=4.2.0) (5.8.1)\n",
      "Requirement already satisfied: traitlets>=5.1 in /Users/niits/miniconda3/envs/test-modal/lib/python3.12/site-packages (from nbformat>=4.2.0) (5.14.3)\n",
      "Requirement already satisfied: six>=1.11.0 in /Users/niits/miniconda3/envs/test-modal/lib/python3.12/site-packages (from azure-core>=1.31.0->azure-identity<2,>=1.15.0->llama-index-llms-azure-openai<0.4.0,>=0.3.0->llama-index-finetuning<0.4,>=0.3.2->llama-index-experimental) (1.17.0)\n",
      "Requirement already satisfied: cffi>=1.14 in /Users/niits/miniconda3/envs/test-modal/lib/python3.12/site-packages (from cryptography>=2.5->azure-identity<2,>=1.15.0->llama-index-llms-azure-openai<0.4.0,>=0.3.0->llama-index-finetuning<0.4,>=0.3.2->llama-index-experimental) (1.17.1)\n",
      "Requirement already satisfied: pycparser in /Users/niits/miniconda3/envs/test-modal/lib/python3.12/site-packages (from cffi>=1.14->cryptography>=2.5->azure-identity<2,>=1.15.0->llama-index-llms-azure-openai<0.4.0,>=0.3.0->llama-index-finetuning<0.4,>=0.3.2->llama-index-experimental) (2.22)\n",
      "Requirement already satisfied: zipp>=3.20 in /Users/niits/miniconda3/envs/test-modal/lib/python3.12/site-packages (from importlib-metadata>=1.0->vnstock) (3.23.0)\n",
      "Requirement already satisfied: jsonschema-specifications>=2023.03.6 in /Users/niits/miniconda3/envs/test-modal/lib/python3.12/site-packages (from jsonschema>=2.6->nbformat>=4.2.0) (2025.4.1)\n",
      "Requirement already satisfied: referencing>=0.28.4 in /Users/niits/miniconda3/envs/test-modal/lib/python3.12/site-packages (from jsonschema>=2.6->nbformat>=4.2.0) (0.36.2)\n",
      "Requirement already satisfied: rpds-py>=0.7.1 in /Users/niits/miniconda3/envs/test-modal/lib/python3.12/site-packages (from jsonschema>=2.6->nbformat>=4.2.0) (0.25.1)\n",
      "Requirement already satisfied: llama-cloud==0.1.26 in /Users/niits/miniconda3/envs/test-modal/lib/python3.12/site-packages (from llama-index-indices-managed-llama-cloud>=0.4.0->llama_index) (0.1.26)\n",
      "Requirement already satisfied: llama-parse>=0.5.0 in /Users/niits/miniconda3/envs/test-modal/lib/python3.12/site-packages (from llama-index-readers-llama-parse>=0.4.0->llama_index) (0.6.34)\n",
      "Requirement already satisfied: llama-index-instrumentation>=0.1.0 in /Users/niits/miniconda3/envs/test-modal/lib/python3.12/site-packages (from llama-index-workflows>=0.2.1->llama-index-core<0.13,>=0.12.43->llama_index) (0.2.0)\n",
      "Requirement already satisfied: llama-cloud-services>=0.6.32 in /Users/niits/miniconda3/envs/test-modal/lib/python3.12/site-packages (from llama-parse>=0.5.0->llama-index-readers-llama-parse>=0.4.0->llama_index) (0.6.34)\n",
      "Requirement already satisfied: python-dotenv<2.0.0,>=1.0.1 in /Users/niits/miniconda3/envs/test-modal/lib/python3.12/site-packages (from llama-cloud-services>=0.6.32->llama-parse>=0.5.0->llama-index-readers-llama-parse>=0.4.0->llama_index) (1.1.0)\n",
      "Requirement already satisfied: eval-type-backport>=0.2.0 in /Users/niits/miniconda3/envs/test-modal/lib/python3.12/site-packages (from mistralai>=1.0.0->llama-index-llms-mistralai<0.5.0,>=0.4.0->llama-index-finetuning<0.4,>=0.3.2->llama-index-experimental) (0.2.2)\n",
      "Requirement already satisfied: PyJWT<3,>=1.0.0 in /Users/niits/miniconda3/envs/test-modal/lib/python3.12/site-packages (from PyJWT[crypto]<3,>=1.0.0->msal>=1.30.0->azure-identity<2,>=1.15.0->llama-index-llms-azure-openai<0.4.0,>=0.3.0->llama-index-finetuning<0.4,>=0.3.2->llama-index-experimental) (2.10.1)\n",
      "Requirement already satisfied: joblib in /Users/niits/miniconda3/envs/test-modal/lib/python3.12/site-packages (from nltk>3.8.1->llama_index) (1.5.1)\n",
      "Requirement already satisfied: regex>=2021.8.3 in /Users/niits/miniconda3/envs/test-modal/lib/python3.12/site-packages (from nltk>3.8.1->llama_index) (2024.11.6)\n",
      "Requirement already satisfied: transformers<5.0.0,>=4.41.0 in /Users/niits/miniconda3/envs/test-modal/lib/python3.12/site-packages (from sentence-transformers>=2.3.0->llama-index-finetuning<0.4,>=0.3.2->llama-index-experimental) (4.52.4)\n",
      "Requirement already satisfied: scikit-learn in /Users/niits/miniconda3/envs/test-modal/lib/python3.12/site-packages (from sentence-transformers>=2.3.0->llama-index-finetuning<0.4,>=0.3.2->llama-index-experimental) (1.7.0)\n",
      "Requirement already satisfied: scipy in /Users/niits/miniconda3/envs/test-modal/lib/python3.12/site-packages (from sentence-transformers>=2.3.0->llama-index-finetuning<0.4,>=0.3.2->llama-index-experimental) (1.15.3)\n",
      "Requirement already satisfied: safetensors>=0.4.3 in /Users/niits/miniconda3/envs/test-modal/lib/python3.12/site-packages (from transformers<5.0.0,>=4.41.0->sentence-transformers>=2.3.0->llama-index-finetuning<0.4,>=0.3.2->llama-index-experimental) (0.5.3)\n",
      "Requirement already satisfied: greenlet>=1 in /Users/niits/miniconda3/envs/test-modal/lib/python3.12/site-packages (from sqlalchemy[asyncio]>=1.4.49->llama-index-core<0.13,>=0.12.43->llama_index) (3.2.3)\n",
      "Requirement already satisfied: sympy>=1.13.3 in /Users/niits/miniconda3/envs/test-modal/lib/python3.12/site-packages (from torch>=2.0.0->llama-index-embeddings-adapter<0.4.0,>=0.3.0->llama-index-finetuning<0.4,>=0.3.2->llama-index-experimental) (1.14.0)\n",
      "Requirement already satisfied: mpmath<1.4,>=1.1.0 in /Users/niits/miniconda3/envs/test-modal/lib/python3.12/site-packages (from sympy>=1.13.3->torch>=2.0.0->llama-index-embeddings-adapter<0.4.0,>=0.3.0->llama-index-finetuning<0.4,>=0.3.2->llama-index-experimental) (1.3.0)\n",
      "Requirement already satisfied: mypy-extensions>=0.3.0 in /Users/niits/miniconda3/envs/test-modal/lib/python3.12/site-packages (from typing-inspect>=0.8.0->llama-index-core<0.13,>=0.12.43->llama_index) (1.1.0)\n",
      "Requirement already satisfied: marshmallow<4.0.0,>=3.18.0 in /Users/niits/miniconda3/envs/test-modal/lib/python3.12/site-packages (from dataclasses-json->llama-index-core<0.13,>=0.12.43->llama_index) (3.26.1)\n",
      "Requirement already satisfied: colorama>=0.4 in /Users/niits/miniconda3/envs/test-modal/lib/python3.12/site-packages (from griffe->banks<3,>=2.0.0->llama-index-core<0.13,>=0.12.43->llama_index) (0.4.6)\n",
      "Requirement already satisfied: MarkupSafe>=2.0 in /Users/niits/miniconda3/envs/test-modal/lib/python3.12/site-packages (from jinja2->banks<3,>=2.0.0->llama-index-core<0.13,>=0.12.43->llama_index) (3.0.2)\n",
      "Requirement already satisfied: et-xmlfile in /Users/niits/miniconda3/envs/test-modal/lib/python3.12/site-packages (from openpyxl->vnstock) (2.0.0)\n",
      "Requirement already satisfied: threadpoolctl>=3.1.0 in /Users/niits/miniconda3/envs/test-modal/lib/python3.12/site-packages (from scikit-learn->sentence-transformers>=2.3.0->llama-index-finetuning<0.4,>=0.3.2->llama-index-experimental) (3.6.0)\n",
      "Requirement already satisfied: matplotlib!=3.6.1,>=3.4 in /Users/niits/miniconda3/envs/test-modal/lib/python3.12/site-packages (from seaborn->vnstock) (3.10.3)\n",
      "Requirement already satisfied: contourpy>=1.0.1 in /Users/niits/miniconda3/envs/test-modal/lib/python3.12/site-packages (from matplotlib!=3.6.1,>=3.4->seaborn->vnstock) (1.3.2)\n",
      "Requirement already satisfied: cycler>=0.10 in /Users/niits/miniconda3/envs/test-modal/lib/python3.12/site-packages (from matplotlib!=3.6.1,>=3.4->seaborn->vnstock) (0.12.1)\n",
      "Requirement already satisfied: fonttools>=4.22.0 in /Users/niits/miniconda3/envs/test-modal/lib/python3.12/site-packages (from matplotlib!=3.6.1,>=3.4->seaborn->vnstock) (4.58.4)\n",
      "Requirement already satisfied: kiwisolver>=1.3.1 in /Users/niits/miniconda3/envs/test-modal/lib/python3.12/site-packages (from matplotlib!=3.6.1,>=3.4->seaborn->vnstock) (1.4.8)\n",
      "Requirement already satisfied: pyparsing>=2.3.1 in /Users/niits/miniconda3/envs/test-modal/lib/python3.12/site-packages (from matplotlib!=3.6.1,>=3.4->seaborn->vnstock) (3.2.3)\n",
      "Requirement already satisfied: squarify in /Users/niits/miniconda3/envs/test-modal/lib/python3.12/site-packages (from vnstock_ezchart->vnstock) (0.4.4)\n",
      "Requirement already satisfied: wordcloud in /Users/niits/miniconda3/envs/test-modal/lib/python3.12/site-packages (from vnstock_ezchart->vnstock) (1.9.4)\n"
     ]
    }
   ],
   "source": [
    "! pip install vnstock llama_index pandas plotly sqlite-vec tabulate llama-index llama-index-experimental  llama-index-callbacks-langfuse \"nbformat>=4.2.0\""
   ]
  },
  {
   "cell_type": "markdown",
   "id": "82ff4e4b",
   "metadata": {},
   "source": [
    "# Import packages"
   ]
  },
  {
   "cell_type": "code",
   "execution_count": 1,
   "id": "00b69f67",
   "metadata": {},
   "outputs": [
    {
     "name": "stderr",
     "output_type": "stream",
     "text": [
      "/Users/niits/miniconda3/envs/test-modal/lib/python3.12/site-packages/vnai/scope/profile.py:742: UserWarning: pkg_resources is deprecated as an API. See https://setuptools.pypa.io/en/latest/pkg_resources.html. The pkg_resources package is slated for removal as early as 2025-11-30. Refrain from using this package or pin to Setuptools<81.\n",
      "  import pkg_resources\n"
     ]
    },
    {
     "data": {
      "text/html": [
       "<!DOCTYPE html>\n",
       "<html>\n",
       "<head>\n",
       "    <meta charset=\"UTF-8\">\n",
       "    <meta name=\"viewport\" content=\"width=device-width, initial-scale=1.0\">\n",
       "    <link href=\"https://fonts.googleapis.com/css2?family=Lexend:wght@400;500;600;700&display=swap\" rel=\"stylesheet\">\n",
       "    <style>\n",
       "        .vnstock-ad-banner {\n",
       "            all: initial;\n",
       "            font-family: 'Lexend', sans-serif;\n",
       "            display: flex;\n",
       "            flex-wrap: wrap;\n",
       "            max-width: 100%;\n",
       "            margin: 12px 0;\n",
       "            border-radius: 10px;\n",
       "            overflow: hidden;\n",
       "            background: #ffffff;\n",
       "            box-shadow: 0 4px 12px rgba(0,0,0,0.08);\n",
       "            color: #333;\n",
       "        }\n",
       "\n",
       "        .vnstock-ad-content {\n",
       "            flex: 1;\n",
       "            padding: 12px 16px;\n",
       "            display: flex;\n",
       "            flex-direction: column;\n",
       "            justify-content: center;\n",
       "        }\n",
       "\n",
       "        .vnstock-ad-title {\n",
       "            margin: 0 0 10px 0;\n",
       "            line-height: 1.3;\n",
       "            font-size: 18px;\n",
       "            font-weight: 700;\n",
       "            color: #4CAF50;\n",
       "        }\n",
       "\n",
       "        .title-highlight {\n",
       "            color: #8C52FF;\n",
       "        }\n",
       "\n",
       "        .vnstock-ad-features {\n",
       "            list-style: none;\n",
       "            padding-left: 0;\n",
       "            margin: 10px 0 12px 0;\n",
       "            font-size: 13px;\n",
       "            line-height: 1.4;\n",
       "        }\n",
       "\n",
       "        .vnstock-ad-features li {\n",
       "            margin-bottom: 6px;\n",
       "        }\n",
       "\n",
       "        .feature-highlight {\n",
       "            color: #8C52FF;\n",
       "            font-weight: 600;\n",
       "        }\n",
       "\n",
       "        .button-container {\n",
       "            text-align: center;\n",
       "        }\n",
       "\n",
       "        .vnstock-ad-button {\n",
       "            display: inline-block;\n",
       "            background-color: #4CAF50;\n",
       "            color: #fff;\n",
       "            padding: 6px 16px;\n",
       "            text-decoration: none;\n",
       "            font-size: 13px;\n",
       "            border-radius: 20px;\n",
       "            font-weight: 600;\n",
       "            transition: all 0.2s;\n",
       "            box-shadow: 0 2px 6px rgba(76, 175, 80, 0.2);\n",
       "        }\n",
       "\n",
       "        .vnstock-ad-button:hover {\n",
       "            background-color: #8C52FF;\n",
       "            color: white;\n",
       "            transform: translateY(-1px);\n",
       "            box-shadow: 0 4px 8px rgba(140, 82, 255, 0.3);\n",
       "        }\n",
       "\n",
       "        .vnstock-ad-image {\n",
       "            flex: 1;\n",
       "            min-width: 180px;\n",
       "            max-width: 45%;\n",
       "        }\n",
       "\n",
       "        .vnstock-ad-image img {\n",
       "            width: 100%;\n",
       "            height: 100%;\n",
       "            max-height: 250px;\n",
       "            object-fit: cover;\n",
       "            display: block;\n",
       "        }\n",
       "\n",
       "        @media (max-width: 768px) {\n",
       "            .vnstock-ad-banner {\n",
       "                flex-direction: column;\n",
       "            }\n",
       "            \n",
       "            .vnstock-ad-image {\n",
       "                min-width: auto;\n",
       "                max-width: 100%;\n",
       "            }\n",
       "        }\n",
       "    </style>\n",
       "</head>\n",
       "<body>\n",
       "    <div class=\"vnstock-ad-banner\">\n",
       "        <div class=\"vnstock-ad-content\">\n",
       "            <h2 class=\"vnstock-ad-title\">\n",
       "                <span class=\"title-highlight\">🤖 Python Coding với AI:</span> Phân Tích Dữ liệu & Bot Chứng Khoán K11\n",
       "            </h2>\n",
       "            <ul class=\"vnstock-ad-features\">\n",
       "                <li><span class=\"feature-highlight\">⚡ Điều khiển AI viết code Python:</span> Không cần thuộc lòng cú pháp, học cách dùng AI agent</li>\n",
       "                <li><span class=\"feature-highlight\">🎯 Từ ý tưởng đến sản phẩm:</span> 15+ bot & chương trình thực tế hoàn chỉnh trong 10 buổi học</li>\n",
       "                <li><span class=\"feature-highlight\">🚀 Giáo trình mới tập trung vào AI:</span> Áp dụng cách tiếp cận AI thực chiến từ 15/6/2025. Truy cập trước nội dung khóa 10 ngay khi đăng ký.</li>\n",
       "                <li><span class=\"feature-highlight\">💡 Cộng đồng chất lượng cao:</span> 100+ nhà đầu tư, chuyên gia & lập trình viên cùng học hỏi</li>\n",
       "            </ul>\n",
       "            <div class=\"button-container\">\n",
       "                <a href=\"https://vnstocks.com/lp-khoa-hoc-python-chung-khoan\" class=\"vnstock-ad-button\">\n",
       "                    Đăng ký ngay ›\n",
       "                </a>\n",
       "            </div>\n",
       "        </div>\n",
       "        <a href=\"https://vnstocks.com/lp-khoa-hoc-python-chung-khoan\" class=\"vnstock-ad-image\">\n",
       "            <img src=\"https://vnstocks.com/img/cta-python-chung-khoan-k11-start-now.jpg\" alt=\"Khóa học Python Coding với AI\" style=\"width: 100%; height: 100%; max-height: 250px; object-fit: cover; display: block;\">\n",
       "        </a>\n",
       "    </div>\n",
       "</body>\n",
       "</html>"
      ],
      "text/plain": [
       "<IPython.core.display.HTML object>"
      ]
     },
     "metadata": {},
     "output_type": "display_data"
    }
   ],
   "source": [
    "from dotenv import load_dotenv\n",
    "import pandas as pd\n",
    "from typing import Dict, Optional, Literal\n",
    "\n",
    "load_dotenv()\n",
    "from datetime import date\n",
    "from llama_index.llms.openai import OpenAI\n",
    "from llama_index.core.agent.workflow import FunctionAgent\n",
    "from functools import lru_cache\n",
    "from llama_index.experimental.query_engine import PandasQueryEngine\n",
    "from llama_index.core.agent.runner.base import AgentRunner\n",
    "import sqlite3\n",
    "from pandas.io.json import build_table_schema\n",
    "from vnstock import Listing, Quote\n",
    "from llama_index.core.prompts import PromptTemplate\n",
    "\n",
    "import plotly.io as pio\n",
    "\n",
    "pio.renderers.default = \"vscode\"  # Change to \"vscode\" for VSCode, \"browser\" for browser, or \"notebook\" for Jupyter Notebook\n",
    "pd.options.plotting.backend = \"plotly\"\n",
    "\n",
    "\n",
    "import plotly.graph_objects as go\n",
    "\n"
   ]
  },
  {
   "cell_type": "markdown",
   "id": "6ece7460",
   "metadata": {},
   "source": [
    "# Create class to save data frames into SQLite database"
   ]
  },
  {
   "cell_type": "code",
   "execution_count": 3,
   "id": "1572bb69",
   "metadata": {},
   "outputs": [],
   "source": [
    "class SqliteStorage:\n",
    "    def __init__(self, db_path: str = \":memory:\"):\n",
    "        self.conn = sqlite3.connect(db_path, check_same_thread=False)\n",
    "\n",
    "    def save_dataframe(\n",
    "        self, df: pd.DataFrame, table_name: str, description: Optional[str] = None\n",
    "    ):\n",
    "        df.to_sql(table_name, self.conn, if_exists=\"fail\", index=False)\n",
    "        if description:\n",
    "            self._save_table_description(table_name, description)\n",
    "\n",
    "    def get_dataframe(self, table_name: str) -> pd.DataFrame:\n",
    "        return pd.read_sql_query(f\"SELECT * FROM {table_name}\", self.conn)\n",
    "\n",
    "    def remove_table(self, table_name: str):\n",
    "        cursor = self.conn.cursor()\n",
    "        cursor.execute(f\"DROP TABLE IF EXISTS {table_name}\")\n",
    "\n",
    "        cursor.execute(\n",
    "            \"DELETE FROM table_descriptions WHERE table_name = ?\",\n",
    "            (table_name,),\n",
    "        )\n",
    "        self.conn.commit()\n",
    "\n",
    "    def _save_table_description(self, table_name: str, description: str):\n",
    "        cursor = self.conn.cursor()\n",
    "        cursor.execute(\n",
    "            \"CREATE TABLE IF NOT EXISTS table_descriptions (table_name TEXT, description TEXT)\"\n",
    "        )\n",
    "        cursor.execute(\n",
    "            \"INSERT INTO table_descriptions (table_name, description) VALUES (?, ?)\",\n",
    "            (table_name, description),\n",
    "        )\n",
    "        self.conn.commit()\n",
    "\n",
    "    def get_table_description(self, table_name: str) -> Optional[str]:\n",
    "        cursor = self.conn.cursor()\n",
    "        cursor.execute(\n",
    "            \"SELECT description FROM table_descriptions WHERE table_name = ?\",\n",
    "            (table_name,),\n",
    "        )\n",
    "        row = cursor.fetchone()\n",
    "        return row[0] if row else None\n",
    "\n",
    "    def get_all_table_descriptions(self) -> Dict[str, str]:\n",
    "        cursor = self.conn.cursor()\n",
    "        cursor.execute(\"SELECT table_name, description FROM table_descriptions\")\n",
    "        rows = cursor.fetchall()\n",
    "        return {row[0]: row[1] for row in rows}\n",
    "\n",
    "    def check_table_exists(self, table_name: str) -> bool:\n",
    "        cursor = self.conn.cursor()\n",
    "        cursor.execute(\n",
    "            \"SELECT name FROM sqlite_master WHERE type='table' AND name=?\",\n",
    "            (table_name,),\n",
    "        )\n",
    "        return cursor.fetchone() is not None"
   ]
  },
  {
   "cell_type": "code",
   "execution_count": 4,
   "id": "cd847e67",
   "metadata": {},
   "outputs": [],
   "source": [
    "db_storage = SqliteStorage()\n"
   ]
  },
  {
   "cell_type": "code",
   "execution_count": 5,
   "id": "c06b7808",
   "metadata": {},
   "outputs": [],
   "source": [
    "df = pd.DataFrame.from_records(\n",
    "    [\n",
    "        {\n",
    "            \"symbol\": \"VIC\",\n",
    "            \"name\": \"Vingroup JSC\",\n",
    "            \"industry\": \"Real Estate\",\n",
    "            \"sector\": \"Consumer Discretionary\",\n",
    "            \"market_cap\": 100000000000,\n",
    "            \"ipo_date\": date(2006, 5, 8),\n",
    "        },\n",
    "        {\n",
    "            \"symbol\": \"VNM\",\n",
    "            \"name\": \"Vinamilk JSC\",\n",
    "            \"industry\": \"Food & Beverage\",\n",
    "            \"sector\": \"Consumer Staples\",\n",
    "            \"market_cap\": 50000000000,\n",
    "            \"ipo_date\": date(2006, 11, 19),\n",
    "        },\n",
    "    ]\n",
    ")\n",
    "\n",
    "db_storage.save_dataframe(\n",
    "    df=df, table_name=\"test_listings\", description=\"Test table for listings\"\n",
    ")\n"
   ]
  },
  {
   "cell_type": "code",
   "execution_count": 6,
   "id": "292c1275",
   "metadata": {},
   "outputs": [
    {
     "data": {
      "application/vnd.microsoft.datawrangler.viewer.v0+json": {
       "columns": [
        {
         "name": "index",
         "rawType": "int64",
         "type": "integer"
        },
        {
         "name": "symbol",
         "rawType": "object",
         "type": "string"
        },
        {
         "name": "name",
         "rawType": "object",
         "type": "string"
        },
        {
         "name": "industry",
         "rawType": "object",
         "type": "string"
        },
        {
         "name": "sector",
         "rawType": "object",
         "type": "string"
        },
        {
         "name": "market_cap",
         "rawType": "int64",
         "type": "integer"
        },
        {
         "name": "ipo_date",
         "rawType": "object",
         "type": "string"
        }
       ],
       "ref": "53bd3f21-06fe-4150-996d-aa29a85a5c78",
       "rows": [
        [
         "0",
         "VIC",
         "Vingroup JSC",
         "Real Estate",
         "Consumer Discretionary",
         "100000000000",
         "2006-05-08"
        ],
        [
         "1",
         "VNM",
         "Vinamilk JSC",
         "Food & Beverage",
         "Consumer Staples",
         "50000000000",
         "2006-11-19"
        ]
       ],
       "shape": {
        "columns": 6,
        "rows": 2
       }
      },
      "text/html": [
       "<div>\n",
       "<style scoped>\n",
       "    .dataframe tbody tr th:only-of-type {\n",
       "        vertical-align: middle;\n",
       "    }\n",
       "\n",
       "    .dataframe tbody tr th {\n",
       "        vertical-align: top;\n",
       "    }\n",
       "\n",
       "    .dataframe thead th {\n",
       "        text-align: right;\n",
       "    }\n",
       "</style>\n",
       "<table border=\"1\" class=\"dataframe\">\n",
       "  <thead>\n",
       "    <tr style=\"text-align: right;\">\n",
       "      <th></th>\n",
       "      <th>symbol</th>\n",
       "      <th>name</th>\n",
       "      <th>industry</th>\n",
       "      <th>sector</th>\n",
       "      <th>market_cap</th>\n",
       "      <th>ipo_date</th>\n",
       "    </tr>\n",
       "  </thead>\n",
       "  <tbody>\n",
       "    <tr>\n",
       "      <th>0</th>\n",
       "      <td>VIC</td>\n",
       "      <td>Vingroup JSC</td>\n",
       "      <td>Real Estate</td>\n",
       "      <td>Consumer Discretionary</td>\n",
       "      <td>100000000000</td>\n",
       "      <td>2006-05-08</td>\n",
       "    </tr>\n",
       "    <tr>\n",
       "      <th>1</th>\n",
       "      <td>VNM</td>\n",
       "      <td>Vinamilk JSC</td>\n",
       "      <td>Food &amp; Beverage</td>\n",
       "      <td>Consumer Staples</td>\n",
       "      <td>50000000000</td>\n",
       "      <td>2006-11-19</td>\n",
       "    </tr>\n",
       "  </tbody>\n",
       "</table>\n",
       "</div>"
      ],
      "text/plain": [
       "  symbol          name         industry                  sector    market_cap  \\\n",
       "0    VIC  Vingroup JSC      Real Estate  Consumer Discretionary  100000000000   \n",
       "1    VNM  Vinamilk JSC  Food & Beverage        Consumer Staples   50000000000   \n",
       "\n",
       "     ipo_date  \n",
       "0  2006-05-08  \n",
       "1  2006-11-19  "
      ]
     },
     "execution_count": 6,
     "metadata": {},
     "output_type": "execute_result"
    }
   ],
   "source": [
    "\n",
    "db_storage.get_dataframe(table_name=\"test_listings\" ).head()"
   ]
  },
  {
   "cell_type": "code",
   "execution_count": 7,
   "id": "ab0787ed",
   "metadata": {},
   "outputs": [
    {
     "data": {
      "text/plain": [
       "'Test table for listings'"
      ]
     },
     "execution_count": 7,
     "metadata": {},
     "output_type": "execute_result"
    }
   ],
   "source": [
    "db_storage.get_table_description(\"test_listings\")"
   ]
  },
  {
   "cell_type": "code",
   "execution_count": 8,
   "id": "1a7643b3",
   "metadata": {},
   "outputs": [
    {
     "data": {
      "text/plain": [
       "{'test_listings': 'Test table for listings'}"
      ]
     },
     "execution_count": 8,
     "metadata": {},
     "output_type": "execute_result"
    }
   ],
   "source": [
    "db_storage.get_all_table_descriptions()"
   ]
  },
  {
   "cell_type": "markdown",
   "id": "5527e8b9",
   "metadata": {},
   "source": [
    "# Create class to handle the data"
   ]
  },
  {
   "cell_type": "code",
   "execution_count": null,
   "id": "2ba0d621",
   "metadata": {},
   "outputs": [],
   "source": [
    "class StockDataSource:\n",
    "    \"\"\"\n",
    "    A data source for stock listings and quotes.\n",
    "    This class interacts with the Vnstock API to retrieve stock listings and quotes.\n",
    "    It uses a SqliteStorage instance to store and retrieve data and save them in a SQLite database.\n",
    "    \"\"\"\n",
    "\n",
    "    def __init__(self, db_storage: SqliteStorage):\n",
    "        self.db_storage = db_storage\n",
    "        self._listing = Listing()\n",
    "\n",
    "    def _describe_dataframe(\n",
    "        self, df: pd.DataFrame, additional_metadata: dict[str, str]\n",
    "    ) -> str:\n",
    "        \"\"\"\n",
    "        Returns a DataFrame with the description of the specified table.\n",
    "        \"\"\"\n",
    "\n",
    "        return \"\\n\".join(\n",
    "            [\n",
    "                f\"This table contains: {df.columns.tolist()}\",\n",
    "                f\"Its statistics:\\n {df.describe().to_string()}\",\n",
    "                f\"Data types:\\n {build_table_schema(df)['fields']}\",\n",
    "                f\"Queried with these parameters: {additional_metadata}\",\n",
    "            ]\n",
    "        )\n",
    "\n",
    "    def pull_symbols(self) -> str:\n",
    "        \"\"\"\n",
    "        Pull all stock listings from the Vnstock API and save them to the database.\n",
    "        Returned a string indicating the table name.\n",
    "        \"\"\"\n",
    "        if self.db_storage.check_table_exists(\"symbols\"):\n",
    "            return \"symbols\"\n",
    "\n",
    "        df = self._listing.symbols_by_industries()\n",
    "\n",
    "        industry_code_cols = [\n",
    "            column for column in df.columns if \"icb_code\" in column.lower()\n",
    "        ]\n",
    "\n",
    "        industry_name_cols = [\n",
    "            column for column in df.columns if \"icb_name\" in column.lower()\n",
    "        ]\n",
    "\n",
    "        df[\"industry_codes\"] = df[industry_code_cols].apply(\n",
    "            lambda row: row[industry_code_cols].dropna().tolist(), axis=1\n",
    "        )\n",
    "        df[\"industry_names\"] = df[industry_name_cols].apply(\n",
    "            lambda row: row[industry_name_cols].dropna().tolist(), axis=1\n",
    "        )\n",
    "        df = df.drop(columns=industry_code_cols + industry_name_cols)\n",
    "\n",
    "        self.db_storage.save_dataframe(\n",
    "            df=df,\n",
    "            table_name=\"symbols\",\n",
    "            description=self._describe_dataframe(\n",
    "                df,\n",
    "                additional_metadata=dict(\n",
    "                    source=\"Vnstock API\",\n",
    "                ),\n",
    "            ),\n",
    "        )\n",
    "\n",
    "        return \"symbols\"\n",
    "\n",
    "    def pull_industries(self) -> str:\n",
    "        \"\"\"Pulls all industries from the Vnstock API and saves them to the database.\n",
    "        Returns a string indicating the table name.\n",
    "        \"\"\"\n",
    "        if self.db_storage.check_table_exists(\"industries\"):\n",
    "            return \"industries\"\n",
    "\n",
    "        df = self._listing.industries_icb()\n",
    "\n",
    "        self.db_storage.save_dataframe(\n",
    "            df=df,\n",
    "            table_name=\"industries\",\n",
    "            description=self._describe_dataframe(\n",
    "                df,\n",
    "                additional_metadata=dict(\n",
    "                    source=\"Vnstock API\",\n",
    "                ),\n",
    "            ),\n",
    "        )\n",
    "\n",
    "        return \"industries\"\n",
    "\n",
    "    def pull_quotes(\n",
    "        self,\n",
    "        symbol: str,\n",
    "        start_date: str,\n",
    "        end_date: str,\n",
    "        interval: str = \"1D\",\n",
    "    ) -> str:\n",
    "        \"\"\"\n",
    "        Pulls stock quotes for a given symbol and date range from the Vnstock API and saves them to the database.\n",
    "        Start and end dates should be in the format YYYY-MM-DD.\n",
    "        Interval can be one of [\"1m\", \"5m\", \"15m\", \"30m\", \"1H\", \"1D\", \"1W\", \"1M\"]\n",
    "        Returns a string indicating the table name.\n",
    "        \"\"\"\n",
    "        table_name = f\"{symbol}_quotes_{start_date}__{end_date}__{interval}\".replace(\n",
    "            \"-\", \"_\"\n",
    "        )\n",
    "        if self.db_storage.check_table_exists(table_name):\n",
    "            return table_name\n",
    "\n",
    "        quote = Quote(symbol=symbol, source=\"VCI\")\n",
    "\n",
    "        df = quote.history(\n",
    "            start=start_date,\n",
    "            end=end_date,\n",
    "            interval=\"1D\",\n",
    "        )\n",
    "\n",
    "        self.db_storage.save_dataframe(\n",
    "            df=df,\n",
    "            table_name=table_name,\n",
    "            description=self._describe_dataframe(\n",
    "                df,\n",
    "                additional_metadata=dict(\n",
    "                    symbol=symbol,\n",
    "                    start_date=start_date,\n",
    "                    end_date=end_date,\n",
    "                    interval=interval,\n",
    "                ),\n",
    "            ),\n",
    "        )\n",
    "        return table_name\n",
    "\n",
    "    def get_all_table_descriptions(self) -> str:\n",
    "        \"\"\"\n",
    "        Returns all table descriptions from the database.\n",
    "        \"\"\"\n",
    "        text = \"\"\n",
    "        for table, metadata in self.db_storage.get_all_table_descriptions().items():\n",
    "            text += f\"Table: {table}\\nDescription:\\n{metadata}\\n\\n\"\n",
    "        return text\n",
    "\n",
    "    def clear_storage(self):\n",
    "        \"\"\"\n",
    "        Clears all tables in the database.\n",
    "        \"\"\"\n",
    "        cursor = self.db_storage.conn.cursor()\n",
    "        cursor.execute(\"SELECT name FROM sqlite_master WHERE type='table'\")\n",
    "        tables = cursor.fetchall()\n",
    "        for table in tables:\n",
    "            self.db_storage.remove_table(table[0])\n",
    "        self.db_storage.conn.commit()\n",
    "\n",
    "    @property\n",
    "    def all_tools(self):\n",
    "        return [\n",
    "            self.pull_symbols,\n",
    "            self.pull_quotes,\n",
    "            self.get_all_table_descriptions,\n",
    "            self.clear_storage,\n",
    "        ]"
   ]
  },
  {
   "cell_type": "code",
   "execution_count": null,
   "id": "1161f111",
   "metadata": {},
   "outputs": [],
   "source": [
    "data_source = StockDataSource(db_storage=db_storage)\n",
    "\n",
    "data_source.pull_symbols()\n",
    "test_table = data_source.pull_quotes(\n",
    "    symbol=\"ACB\",\n",
    "    start_date=\"2024-01-01\",\n",
    "    end_date=\"2025-03-10\",\n",
    "    interval=\"1D\",\n",
    ")"
   ]
  },
  {
   "cell_type": "code",
   "execution_count": 19,
   "id": "17bdb34a",
   "metadata": {},
   "outputs": [
    {
     "name": "stdout",
     "output_type": "stream",
     "text": [
      "Table: test_listings\n",
      "Description:\n",
      "Test table for listings\n",
      "\n",
      "Table: listings\n",
      "Description:\n",
      "This table contains: ['symbol', 'organ_name']\n",
      "Its statistics:\n",
      "        symbol                organ_name\n",
      "count    1715                      1688\n",
      "unique   1715                      1687\n",
      "top       YTC  Công ty Cổ phần Nam Việt\n",
      "freq        1                         2\n",
      "Data types:\n",
      " [{'name': 'index', 'type': 'integer'}, {'name': 'symbol', 'type': 'string'}, {'name': 'organ_name', 'type': 'string'}]\n",
      "Queried with these parameters: {'source': 'Vnstock API', 'date': datetime.date(2025, 6, 22)}\n",
      "\n",
      "Table: ACB_quotes_2024-01-01__2025-03-10__1D\n",
      "Description:\n",
      "This table contains: ['time', 'open', 'high', 'low', 'close', 'volume']\n",
      "Its statistics:\n",
      "                                 time        open        high         low       close        volume\n",
      "count                            293  293.000000  293.000000  293.000000  293.000000  2.930000e+02\n",
      "mean   2024-08-05 12:51:36.245733888   20.236792   20.391160   20.079966   20.240273  8.566683e+06\n",
      "min              2024-01-02 00:00:00   16.810000   17.370000   16.810000   17.160000  2.374108e+06\n",
      "25%              2024-04-22 00:00:00   19.550000   19.650000   19.340000   19.510000  5.090360e+06\n",
      "50%              2024-08-06 00:00:00   20.470000   20.550000   20.260000   20.430000  7.321603e+06\n",
      "75%              2024-11-19 00:00:00   20.970000   21.140000   20.850000   20.970000  1.041478e+07\n",
      "max              2025-03-10 00:00:00   22.310000   22.390000   22.060000   22.270000  3.433630e+07\n",
      "std                              NaN    1.070466    1.056965    1.080590    1.064152  5.116678e+06\n",
      "Data types:\n",
      " [{'name': 'index', 'type': 'integer'}, {'name': 'time', 'type': 'datetime'}, {'name': 'open', 'type': 'number'}, {'name': 'high', 'type': 'number'}, {'name': 'low', 'type': 'number'}, {'name': 'close', 'type': 'number'}, {'name': 'volume', 'type': 'integer'}]\n",
      "Queried with these parameters: {'symbol': 'ACB', 'start_date': '2024-01-01', 'end_date': '2025-03-10', 'interval': '1D'}\n",
      "\n",
      "Table: ACB_quotes_2024_01_01__2025_03_10__1D\n",
      "Description:\n",
      "This table contains: ['time', 'open', 'high', 'low', 'close', 'volume']\n",
      "Its statistics:\n",
      "                                 time        open        high         low       close        volume\n",
      "count                            293  293.000000  293.000000  293.000000  293.000000  2.930000e+02\n",
      "mean   2024-08-05 12:51:36.245733888   20.236792   20.391160   20.079966   20.240273  8.566683e+06\n",
      "min              2024-01-02 00:00:00   16.810000   17.370000   16.810000   17.160000  2.374108e+06\n",
      "25%              2024-04-22 00:00:00   19.550000   19.650000   19.340000   19.510000  5.090360e+06\n",
      "50%              2024-08-06 00:00:00   20.470000   20.550000   20.260000   20.430000  7.321603e+06\n",
      "75%              2024-11-19 00:00:00   20.970000   21.140000   20.850000   20.970000  1.041478e+07\n",
      "max              2025-03-10 00:00:00   22.310000   22.390000   22.060000   22.270000  3.433630e+07\n",
      "std                              NaN    1.070466    1.056965    1.080590    1.064152  5.116678e+06\n",
      "Data types:\n",
      " [{'name': 'index', 'type': 'integer'}, {'name': 'time', 'type': 'datetime'}, {'name': 'open', 'type': 'number'}, {'name': 'high', 'type': 'number'}, {'name': 'low', 'type': 'number'}, {'name': 'close', 'type': 'number'}, {'name': 'volume', 'type': 'integer'}]\n",
      "Queried with these parameters: {'symbol': 'ACB', 'start_date': '2024-01-01', 'end_date': '2025-03-10', 'interval': '1D'}\n",
      "\n",
      "\n"
     ]
    }
   ],
   "source": [
    "print(data_source.get_all_table_descriptions())"
   ]
  },
  {
   "cell_type": "markdown",
   "id": "de4d1b60",
   "metadata": {},
   "source": [
    "# Create class to manipulate the dataframe"
   ]
  },
  {
   "cell_type": "code",
   "execution_count": 20,
   "id": "1a59522f",
   "metadata": {},
   "outputs": [
    {
     "name": "stdout",
     "output_type": "stream",
     "text": [
      "INFO:httpx:HTTP Request: POST https://api.openai.com/v1/chat/completions \"HTTP/1.1 200 OK\"\n",
      "HTTP Request: POST https://api.openai.com/v1/chat/completions \"HTTP/1.1 200 OK\"\n",
      "> Pandas Instructions:\n",
      "```\n",
      "df[(df['time'] >= '2024-01-01') & (df['time'] <= '2025-03-19')].agg({'high': 'max', 'low': 'min'})\n",
      "```\n",
      "> Pandas Output: high    22.39\n",
      "low     16.81\n",
      "dtype: float64\n",
      "INFO:httpx:HTTP Request: POST https://api.openai.com/v1/chat/completions \"HTTP/1.1 200 OK\"\n",
      "HTTP Request: POST https://api.openai.com/v1/chat/completions \"HTTP/1.1 200 OK\"\n",
      "{\n",
      "    \"data\": [\n",
      "        {\n",
      "            \"type\": \"bar\",\n",
      "            \"x\": [\"High Price\", \"Low Price\"],\n",
      "            \"y\": [22.39, 16.81]\n",
      "        }\n",
      "    ],\n",
      "    \"layout\": {\n",
      "        \"title\": \"Giá đóng cửa cao nhất và thấp nhất của cổ phiếu ACB từ 2024-01-01 đến 2025-03-19\",\n",
      "        \"xaxis\": {\n",
      "            \"title\": \"Loại giá\"\n",
      "        },\n",
      "        \"yaxis\": {\n",
      "            \"title\": \"Giá\"\n",
      "        }\n",
      "    }\n",
      "}\n"
     ]
    }
   ],
   "source": [
    "DEFAULT_RESPONSE_SYNTHESIS_PROMPT_TMPL = (\n",
    "    \"Given an input question, generate Plotly JSON could be used to render this result\\n\"\n",
    "    \"Based on the query and the Pandas DataFrame output, you must choose the appropriate visualization type, ensure that the visualization has a clear title, and that the axes are labeled correctly. You must also ensure that the visualization is clear and easy to understand.\\n\"\n",
    "    \"Title and axes labels should be same language as the query.\\n\"\n",
    "    \"Query: {query_str}\\n\\n\"\n",
    "    \"Pandas Instructions (optional):\\n{pandas_instructions}\\n\\n\"\n",
    "    \"Pandas Output: {pandas_output}\\n\\n\"\n",
    "    \"Response: \"\n",
    ")\n",
    "DEFAULT_RESPONSE_SYNTHESIS_PROMPT = PromptTemplate(\n",
    "    DEFAULT_RESPONSE_SYNTHESIS_PROMPT_TMPL,\n",
    ")\n",
    "\n",
    "\n",
    "class PandasQueryRunner:\n",
    "    \"\"\"\n",
    "    A class to run queries on Pandas DataFrames.\n",
    "    It uses duckdb to execute SQL queries on DataFrames stored in the SqliteStorage.\n",
    "    \"\"\"\n",
    "\n",
    "    def __init__(self, db_storage: SqliteStorage):\n",
    "        self.db_storage = db_storage\n",
    "        self.get_pandas_query_engine = lru_cache(maxsize=128)(\n",
    "            self._get_pandas_query_engine\n",
    "        )\n",
    "\n",
    "    def _get_pandas_query_engine(self, table_name: str) -> PandasQueryEngine:\n",
    "        \"\"\"\n",
    "        Returns a PandasQueryEngine for the specified table name.\n",
    "        \"\"\"\n",
    "        if not self.db_storage.check_table_exists(table_name):\n",
    "            raise ValueError(f\"Table '{table_name}' does not exist in the database.\")\n",
    "\n",
    "        df = self.db_storage.get_dataframe(table_name)\n",
    "        return PandasQueryEngine(\n",
    "            df,\n",
    "            synthesize_response=True,\n",
    "            response_synthesis_prompt=DEFAULT_RESPONSE_SYNTHESIS_PROMPT,\n",
    "            verbose=True,\n",
    "        )\n",
    "\n",
    "    def run_query(self, table_name: str, query: str) -> str:\n",
    "        \"\"\"\n",
    "        Runs a SQL query on the specified table and returns the result as a DataFrame.\n",
    "        \"\"\"\n",
    "        query_engine = self.get_pandas_query_engine(table_name)\n",
    "\n",
    "        response = query_engine.query(query)\n",
    "\n",
    "        return str(response) if response is not None else \"No results found.\"\n",
    "\n",
    "\n",
    "pandas_query_runner = PandasQueryRunner(db_storage=db_storage)\n",
    "\n",
    "output = pandas_query_runner.run_query(\n",
    "    test_table,\n",
    "    \"Từ ngày 2024-01-01 đến 2025-03-19, giá đóng cửa cao nhất và thấp nhất của cổ phiếu ACB là bao nhiêu?\",\n",
    ")\n",
    "\n",
    "print(output)"
   ]
  },
  {
   "cell_type": "markdown",
   "id": "ed084f29",
   "metadata": {},
   "source": [
    "# Simple tool to plot Plotly graphs"
   ]
  },
  {
   "cell_type": "code",
   "execution_count": 21,
   "id": "33398dc0",
   "metadata": {},
   "outputs": [
    {
     "data": {
      "application/vnd.plotly.v1+json": {
       "config": {
        "plotlyServerURL": "https://plot.ly"
       },
       "data": [
        {
         "type": "bar",
         "x": [
          "High Price",
          "Low Price"
         ],
         "y": [
          22.39,
          16.81
         ]
        }
       ],
       "layout": {
        "template": {
         "data": {
          "bar": [
           {
            "error_x": {
             "color": "#2a3f5f"
            },
            "error_y": {
             "color": "#2a3f5f"
            },
            "marker": {
             "line": {
              "color": "#E5ECF6",
              "width": 0.5
             },
             "pattern": {
              "fillmode": "overlay",
              "size": 10,
              "solidity": 0.2
             }
            },
            "type": "bar"
           }
          ],
          "barpolar": [
           {
            "marker": {
             "line": {
              "color": "#E5ECF6",
              "width": 0.5
             },
             "pattern": {
              "fillmode": "overlay",
              "size": 10,
              "solidity": 0.2
             }
            },
            "type": "barpolar"
           }
          ],
          "carpet": [
           {
            "aaxis": {
             "endlinecolor": "#2a3f5f",
             "gridcolor": "white",
             "linecolor": "white",
             "minorgridcolor": "white",
             "startlinecolor": "#2a3f5f"
            },
            "baxis": {
             "endlinecolor": "#2a3f5f",
             "gridcolor": "white",
             "linecolor": "white",
             "minorgridcolor": "white",
             "startlinecolor": "#2a3f5f"
            },
            "type": "carpet"
           }
          ],
          "choropleth": [
           {
            "colorbar": {
             "outlinewidth": 0,
             "ticks": ""
            },
            "type": "choropleth"
           }
          ],
          "contour": [
           {
            "colorbar": {
             "outlinewidth": 0,
             "ticks": ""
            },
            "colorscale": [
             [
              0,
              "#0d0887"
             ],
             [
              0.1111111111111111,
              "#46039f"
             ],
             [
              0.2222222222222222,
              "#7201a8"
             ],
             [
              0.3333333333333333,
              "#9c179e"
             ],
             [
              0.4444444444444444,
              "#bd3786"
             ],
             [
              0.5555555555555556,
              "#d8576b"
             ],
             [
              0.6666666666666666,
              "#ed7953"
             ],
             [
              0.7777777777777778,
              "#fb9f3a"
             ],
             [
              0.8888888888888888,
              "#fdca26"
             ],
             [
              1,
              "#f0f921"
             ]
            ],
            "type": "contour"
           }
          ],
          "contourcarpet": [
           {
            "colorbar": {
             "outlinewidth": 0,
             "ticks": ""
            },
            "type": "contourcarpet"
           }
          ],
          "heatmap": [
           {
            "colorbar": {
             "outlinewidth": 0,
             "ticks": ""
            },
            "colorscale": [
             [
              0,
              "#0d0887"
             ],
             [
              0.1111111111111111,
              "#46039f"
             ],
             [
              0.2222222222222222,
              "#7201a8"
             ],
             [
              0.3333333333333333,
              "#9c179e"
             ],
             [
              0.4444444444444444,
              "#bd3786"
             ],
             [
              0.5555555555555556,
              "#d8576b"
             ],
             [
              0.6666666666666666,
              "#ed7953"
             ],
             [
              0.7777777777777778,
              "#fb9f3a"
             ],
             [
              0.8888888888888888,
              "#fdca26"
             ],
             [
              1,
              "#f0f921"
             ]
            ],
            "type": "heatmap"
           }
          ],
          "histogram": [
           {
            "marker": {
             "pattern": {
              "fillmode": "overlay",
              "size": 10,
              "solidity": 0.2
             }
            },
            "type": "histogram"
           }
          ],
          "histogram2d": [
           {
            "colorbar": {
             "outlinewidth": 0,
             "ticks": ""
            },
            "colorscale": [
             [
              0,
              "#0d0887"
             ],
             [
              0.1111111111111111,
              "#46039f"
             ],
             [
              0.2222222222222222,
              "#7201a8"
             ],
             [
              0.3333333333333333,
              "#9c179e"
             ],
             [
              0.4444444444444444,
              "#bd3786"
             ],
             [
              0.5555555555555556,
              "#d8576b"
             ],
             [
              0.6666666666666666,
              "#ed7953"
             ],
             [
              0.7777777777777778,
              "#fb9f3a"
             ],
             [
              0.8888888888888888,
              "#fdca26"
             ],
             [
              1,
              "#f0f921"
             ]
            ],
            "type": "histogram2d"
           }
          ],
          "histogram2dcontour": [
           {
            "colorbar": {
             "outlinewidth": 0,
             "ticks": ""
            },
            "colorscale": [
             [
              0,
              "#0d0887"
             ],
             [
              0.1111111111111111,
              "#46039f"
             ],
             [
              0.2222222222222222,
              "#7201a8"
             ],
             [
              0.3333333333333333,
              "#9c179e"
             ],
             [
              0.4444444444444444,
              "#bd3786"
             ],
             [
              0.5555555555555556,
              "#d8576b"
             ],
             [
              0.6666666666666666,
              "#ed7953"
             ],
             [
              0.7777777777777778,
              "#fb9f3a"
             ],
             [
              0.8888888888888888,
              "#fdca26"
             ],
             [
              1,
              "#f0f921"
             ]
            ],
            "type": "histogram2dcontour"
           }
          ],
          "mesh3d": [
           {
            "colorbar": {
             "outlinewidth": 0,
             "ticks": ""
            },
            "type": "mesh3d"
           }
          ],
          "parcoords": [
           {
            "line": {
             "colorbar": {
              "outlinewidth": 0,
              "ticks": ""
             }
            },
            "type": "parcoords"
           }
          ],
          "pie": [
           {
            "automargin": true,
            "type": "pie"
           }
          ],
          "scatter": [
           {
            "fillpattern": {
             "fillmode": "overlay",
             "size": 10,
             "solidity": 0.2
            },
            "type": "scatter"
           }
          ],
          "scatter3d": [
           {
            "line": {
             "colorbar": {
              "outlinewidth": 0,
              "ticks": ""
             }
            },
            "marker": {
             "colorbar": {
              "outlinewidth": 0,
              "ticks": ""
             }
            },
            "type": "scatter3d"
           }
          ],
          "scattercarpet": [
           {
            "marker": {
             "colorbar": {
              "outlinewidth": 0,
              "ticks": ""
             }
            },
            "type": "scattercarpet"
           }
          ],
          "scattergeo": [
           {
            "marker": {
             "colorbar": {
              "outlinewidth": 0,
              "ticks": ""
             }
            },
            "type": "scattergeo"
           }
          ],
          "scattergl": [
           {
            "marker": {
             "colorbar": {
              "outlinewidth": 0,
              "ticks": ""
             }
            },
            "type": "scattergl"
           }
          ],
          "scattermap": [
           {
            "marker": {
             "colorbar": {
              "outlinewidth": 0,
              "ticks": ""
             }
            },
            "type": "scattermap"
           }
          ],
          "scattermapbox": [
           {
            "marker": {
             "colorbar": {
              "outlinewidth": 0,
              "ticks": ""
             }
            },
            "type": "scattermapbox"
           }
          ],
          "scatterpolar": [
           {
            "marker": {
             "colorbar": {
              "outlinewidth": 0,
              "ticks": ""
             }
            },
            "type": "scatterpolar"
           }
          ],
          "scatterpolargl": [
           {
            "marker": {
             "colorbar": {
              "outlinewidth": 0,
              "ticks": ""
             }
            },
            "type": "scatterpolargl"
           }
          ],
          "scatterternary": [
           {
            "marker": {
             "colorbar": {
              "outlinewidth": 0,
              "ticks": ""
             }
            },
            "type": "scatterternary"
           }
          ],
          "surface": [
           {
            "colorbar": {
             "outlinewidth": 0,
             "ticks": ""
            },
            "colorscale": [
             [
              0,
              "#0d0887"
             ],
             [
              0.1111111111111111,
              "#46039f"
             ],
             [
              0.2222222222222222,
              "#7201a8"
             ],
             [
              0.3333333333333333,
              "#9c179e"
             ],
             [
              0.4444444444444444,
              "#bd3786"
             ],
             [
              0.5555555555555556,
              "#d8576b"
             ],
             [
              0.6666666666666666,
              "#ed7953"
             ],
             [
              0.7777777777777778,
              "#fb9f3a"
             ],
             [
              0.8888888888888888,
              "#fdca26"
             ],
             [
              1,
              "#f0f921"
             ]
            ],
            "type": "surface"
           }
          ],
          "table": [
           {
            "cells": {
             "fill": {
              "color": "#EBF0F8"
             },
             "line": {
              "color": "white"
             }
            },
            "header": {
             "fill": {
              "color": "#C8D4E3"
             },
             "line": {
              "color": "white"
             }
            },
            "type": "table"
           }
          ]
         },
         "layout": {
          "annotationdefaults": {
           "arrowcolor": "#2a3f5f",
           "arrowhead": 0,
           "arrowwidth": 1
          },
          "autotypenumbers": "strict",
          "coloraxis": {
           "colorbar": {
            "outlinewidth": 0,
            "ticks": ""
           }
          },
          "colorscale": {
           "diverging": [
            [
             0,
             "#8e0152"
            ],
            [
             0.1,
             "#c51b7d"
            ],
            [
             0.2,
             "#de77ae"
            ],
            [
             0.3,
             "#f1b6da"
            ],
            [
             0.4,
             "#fde0ef"
            ],
            [
             0.5,
             "#f7f7f7"
            ],
            [
             0.6,
             "#e6f5d0"
            ],
            [
             0.7,
             "#b8e186"
            ],
            [
             0.8,
             "#7fbc41"
            ],
            [
             0.9,
             "#4d9221"
            ],
            [
             1,
             "#276419"
            ]
           ],
           "sequential": [
            [
             0,
             "#0d0887"
            ],
            [
             0.1111111111111111,
             "#46039f"
            ],
            [
             0.2222222222222222,
             "#7201a8"
            ],
            [
             0.3333333333333333,
             "#9c179e"
            ],
            [
             0.4444444444444444,
             "#bd3786"
            ],
            [
             0.5555555555555556,
             "#d8576b"
            ],
            [
             0.6666666666666666,
             "#ed7953"
            ],
            [
             0.7777777777777778,
             "#fb9f3a"
            ],
            [
             0.8888888888888888,
             "#fdca26"
            ],
            [
             1,
             "#f0f921"
            ]
           ],
           "sequentialminus": [
            [
             0,
             "#0d0887"
            ],
            [
             0.1111111111111111,
             "#46039f"
            ],
            [
             0.2222222222222222,
             "#7201a8"
            ],
            [
             0.3333333333333333,
             "#9c179e"
            ],
            [
             0.4444444444444444,
             "#bd3786"
            ],
            [
             0.5555555555555556,
             "#d8576b"
            ],
            [
             0.6666666666666666,
             "#ed7953"
            ],
            [
             0.7777777777777778,
             "#fb9f3a"
            ],
            [
             0.8888888888888888,
             "#fdca26"
            ],
            [
             1,
             "#f0f921"
            ]
           ]
          },
          "colorway": [
           "#636efa",
           "#EF553B",
           "#00cc96",
           "#ab63fa",
           "#FFA15A",
           "#19d3f3",
           "#FF6692",
           "#B6E880",
           "#FF97FF",
           "#FECB52"
          ],
          "font": {
           "color": "#2a3f5f"
          },
          "geo": {
           "bgcolor": "white",
           "lakecolor": "white",
           "landcolor": "#E5ECF6",
           "showlakes": true,
           "showland": true,
           "subunitcolor": "white"
          },
          "hoverlabel": {
           "align": "left"
          },
          "hovermode": "closest",
          "mapbox": {
           "style": "light"
          },
          "paper_bgcolor": "white",
          "plot_bgcolor": "#E5ECF6",
          "polar": {
           "angularaxis": {
            "gridcolor": "white",
            "linecolor": "white",
            "ticks": ""
           },
           "bgcolor": "#E5ECF6",
           "radialaxis": {
            "gridcolor": "white",
            "linecolor": "white",
            "ticks": ""
           }
          },
          "scene": {
           "xaxis": {
            "backgroundcolor": "#E5ECF6",
            "gridcolor": "white",
            "gridwidth": 2,
            "linecolor": "white",
            "showbackground": true,
            "ticks": "",
            "zerolinecolor": "white"
           },
           "yaxis": {
            "backgroundcolor": "#E5ECF6",
            "gridcolor": "white",
            "gridwidth": 2,
            "linecolor": "white",
            "showbackground": true,
            "ticks": "",
            "zerolinecolor": "white"
           },
           "zaxis": {
            "backgroundcolor": "#E5ECF6",
            "gridcolor": "white",
            "gridwidth": 2,
            "linecolor": "white",
            "showbackground": true,
            "ticks": "",
            "zerolinecolor": "white"
           }
          },
          "shapedefaults": {
           "line": {
            "color": "#2a3f5f"
           }
          },
          "ternary": {
           "aaxis": {
            "gridcolor": "white",
            "linecolor": "white",
            "ticks": ""
           },
           "baxis": {
            "gridcolor": "white",
            "linecolor": "white",
            "ticks": ""
           },
           "bgcolor": "#E5ECF6",
           "caxis": {
            "gridcolor": "white",
            "linecolor": "white",
            "ticks": ""
           }
          },
          "title": {
           "x": 0.05
          },
          "xaxis": {
           "automargin": true,
           "gridcolor": "white",
           "linecolor": "white",
           "ticks": "",
           "title": {
            "standoff": 15
           },
           "zerolinecolor": "white",
           "zerolinewidth": 2
          },
          "yaxis": {
           "automargin": true,
           "gridcolor": "white",
           "linecolor": "white",
           "ticks": "",
           "title": {
            "standoff": 15
           },
           "zerolinecolor": "white",
           "zerolinewidth": 2
          }
         }
        },
        "title": {
         "text": "Giá đóng cửa cao nhất và thấp nhất của cổ phiếu ACB từ 2024-01-01 đến 2025-03-19"
        },
        "xaxis": {
         "title": {
          "text": "Loại giá"
         }
        },
        "yaxis": {
         "title": {
          "text": "Giá"
         }
        }
       }
      }
     },
     "metadata": {},
     "output_type": "display_data"
    }
   ],
   "source": [
    "def show_plotly_chart(chart_json: str):\n",
    "    \"\"\"\n",
    "    Displays a Plotly chart from a JSON string.\n",
    "    \"\"\"\n",
    "    import plotly.io as pio\n",
    "    chart = pio.from_json(chart_json)\n",
    "    chart.show()\n",
    "\n",
    "show_plotly_chart(output)"
   ]
  },
  {
   "cell_type": "markdown",
   "id": "763e6589",
   "metadata": {},
   "source": [
    "# Some time related functions\n"
   ]
  },
  {
   "cell_type": "code",
   "execution_count": 22,
   "id": "f19baf77",
   "metadata": {},
   "outputs": [],
   "source": [
    "def get_current_date() -> str:\n",
    "    \"\"\"\n",
    "    Returns the current date in YYYY-MM-DD format.\n",
    "    \"\"\"\n",
    "    return date.today().strftime(\"%Y-%m-%d\")\n"
   ]
  },
  {
   "cell_type": "code",
   "execution_count": 23,
   "id": "7bd82333",
   "metadata": {},
   "outputs": [],
   "source": [
    "all_tools = data_source.all_tools + [\n",
    "    pandas_query_runner.run_query,\n",
    "    show_plotly_chart,\n",
    "    get_current_date\n",
    "]"
   ]
  },
  {
   "cell_type": "code",
   "execution_count": 24,
   "id": "669b7cab",
   "metadata": {},
   "outputs": [],
   "source": [
    "import llama_index.core\n",
    "\n",
    "llama_index.core.set_global_handler(\"simple\")"
   ]
  },
  {
   "cell_type": "code",
   "execution_count": 25,
   "id": "0ba34b83",
   "metadata": {},
   "outputs": [],
   "source": [
    "\n",
    "workflow = FunctionAgent(\n",
    "    tools=all_tools,\n",
    "    llm=OpenAI(\n",
    "        model=\"gpt-4o\",\n",
    "    ),\n",
    "    system_prompt=(\n",
    "        \"You are a helpful assistant that can answer questions about stock listings and quotes. \"\n",
    "        \"You can pull stock listings and quotes from the Vnstock API, run SQL queries on Pandas DataFrames, \"\n",
    "        \"and provide information about the data stored in the database.\"\n",
    "        \"You can also clear the storage and get all table descriptions if user want to create a conversation with you.\"\n",
    "        \"Note that data is not available at start, so you need to pull listings and quotes first before querying them.\"\n",
    "        \"You can also visualize the data using Plotly charts but only for the final result of the query, not intermediate steps.\"\n",
    "    ),\n",
    "    verbose=True,\n",
    ")\n",
    "\n",
    "from llama_index.core.memory import ChatMemoryBuffer\n",
    "\n",
    "memory = ChatMemoryBuffer.from_defaults(token_limit=40000)\n"
   ]
  },
  {
   "cell_type": "code",
   "execution_count": 26,
   "id": "7c2c3a3f",
   "metadata": {},
   "outputs": [
    {
     "name": "stdout",
     "output_type": "stream",
     "text": [
      "Running step init_run\n",
      "Step init_run produced event AgentInput\n",
      "Running step setup_agent\n",
      "Step setup_agent produced event AgentSetup\n",
      "Running step run_agent_step\n",
      "INFO:httpx:HTTP Request: POST https://api.openai.com/v1/chat/completions \"HTTP/1.1 200 OK\"\n",
      "HTTP Request: POST https://api.openai.com/v1/chat/completions \"HTTP/1.1 200 OK\"\n",
      "** Messages: **\n",
      "system: You are a helpful assistant that can answer questions about stock listings and quotes. You can pull stock listings and quotes from the Vnstock API, run SQL queries on Pandas DataFrames, and provide information about the data stored in the database.You can also clear the storage and get all table descriptions if user want to create a conversation with you.Note that data is not available at start, so you need to pull listings and quotes first before querying them.You can also visualize the data using Plotly charts but only for the final result of the query, not intermediate steps.\n",
      "user: Mã chứng khoán của Công ty Cổ phần Xi măng và Khoáng sản Yên Bái là gì?\n",
      "**************************************************\n",
      "** Response: **\n",
      "assistant: Mã chứng khoán của Công ty Cổ phần Xi măng và Khoáng sản Yên Bái là \"YBC\".\n",
      "**************************************************\n",
      "\n",
      "\n",
      "Step run_agent_step produced event AgentOutput\n",
      "Running step parse_agent_output\n",
      "Step parse_agent_output produced event StopEvent\n",
      "Mã chứng khoán của Công ty Cổ phần Xi măng và Khoáng sản Yên Bái là \"YBC\".\n"
     ]
    },
    {
     "name": "stdout",
     "output_type": "stream",
     "text": [
      "INFO:httpx:HTTP Request: POST https://api.openai.com/v1/chat/completions \"HTTP/1.1 200 OK\"\n",
      "HTTP Request: POST https://api.openai.com/v1/chat/completions \"HTTP/1.1 200 OK\"\n",
      "> Pandas Instructions:\n",
      "```\n",
      "df.agg({'high': 'max', 'low': 'min'})\n",
      "```\n",
      "> Pandas Output: high    25.0\n",
      "low      5.1\n",
      "dtype: float64\n",
      "INFO:httpx:HTTP Request: POST https://api.openai.com/v1/chat/completions \"HTTP/1.1 200 OK\"\n",
      "HTTP Request: POST https://api.openai.com/v1/chat/completions \"HTTP/1.1 200 OK\"\n",
      "INFO:httpx:HTTP Request: POST https://api.openai.com/v1/chat/completions \"HTTP/1.1 200 OK\"\n",
      "HTTP Request: POST https://api.openai.com/v1/chat/completions \"HTTP/1.1 200 OK\"\n",
      "> Pandas Instructions:\n",
      "```\n",
      "df[['time', 'close']].sort_values('time')\n",
      "```\n",
      "> Pandas Output:                   time  close\n",
      "0  2025-05-23 00:00:00   12.5\n",
      "1  2025-05-26 00:00:00   12.5\n",
      "2  2025-05-28 00:00:00   11.0\n",
      "3  2025-06-02 00:00:00   10.2\n",
      "4  2025-06-03 00:00:00   10.7\n",
      "5  2025-06-09 00:00:00   10.7\n",
      "6  2025-06-12 00:00:00   10.7\n",
      "7  2025-06-16 00:00:00   10.7\n",
      "8  2025-06-17 00:00:00   11.7\n",
      "INFO:httpx:HTTP Request: POST https://api.openai.com/v1/chat/completions \"HTTP/1.1 200 OK\"\n",
      "HTTP Request: POST https://api.openai.com/v1/chat/completions \"HTTP/1.1 200 OK\"\n",
      "INFO:httpx:HTTP Request: POST https://api.openai.com/v1/chat/completions \"HTTP/1.1 200 OK\"\n",
      "HTTP Request: POST https://api.openai.com/v1/chat/completions \"HTTP/1.1 200 OK\"\n",
      "> Pandas Instructions:\n",
      "```\n",
      "df[['time', 'close']].sort_values('time')\n",
      "```\n",
      "> Pandas Output:                   time  close\n",
      "0  2025-05-23 00:00:00   12.5\n",
      "1  2025-05-26 00:00:00   12.5\n",
      "2  2025-05-28 00:00:00   11.0\n",
      "3  2025-06-02 00:00:00   10.2\n",
      "4  2025-06-03 00:00:00   10.7\n",
      "5  2025-06-09 00:00:00   10.7\n",
      "6  2025-06-12 00:00:00   10.7\n",
      "7  2025-06-16 00:00:00   10.7\n",
      "8  2025-06-17 00:00:00   11.7\n",
      "INFO:httpx:HTTP Request: POST https://api.openai.com/v1/chat/completions \"HTTP/1.1 200 OK\"\n",
      "HTTP Request: POST https://api.openai.com/v1/chat/completions \"HTTP/1.1 200 OK\"\n"
     ]
    }
   ],
   "source": [
    "response = await workflow.run(\n",
    "    \"Mã chứng khoán của Công ty Cổ phần Xi măng và Khoáng sản Yên Bái là gì?\",\n",
    ")\n",
    "\n",
    "print(str(response))\n"
   ]
  },
  {
   "cell_type": "code",
   "execution_count": null,
   "id": "65640c6a",
   "metadata": {},
   "outputs": [
    {
     "name": "stdout",
     "output_type": "stream",
     "text": [
      "Running step init_run\n",
      "Step init_run produced event AgentInput\n",
      "Running step setup_agent\n",
      "Step setup_agent produced event AgentSetup\n",
      "Running step run_agent_step\n",
      "INFO:httpx:HTTP Request: POST https://api.openai.com/v1/chat/completions \"HTTP/1.1 200 OK\"\n",
      "HTTP Request: POST https://api.openai.com/v1/chat/completions \"HTTP/1.1 200 OK\"\n",
      "** Messages: **\n",
      "system: You are a helpful assistant that can answer questions about stock listings and quotes. You can pull stock listings and quotes from the Vnstock API, run SQL queries on Pandas DataFrames, and provide information about the data stored in the database.You can also clear the storage and get all table descriptions if user want to create a conversation with you.Note that data is not available at start, so you need to pull listings and quotes first before querying them.You can also visualize the data using Plotly charts but only for the final result of the query, not intermediate steps.\n",
      "user: Mã chứng khoán của Công ty Cổ phần Xi măng và Khoáng sản Yên Bái là gì?\n",
      "assistant: Mã chứng khoán của Công ty Cổ phần Xi măng và Khoáng sản Yên Bái là \"YBC\".\n",
      "user: Từ ngày 2024-10-01 đến 2025-03-31, giá cao nhất và thấp nhất của cổ phiếu YBC là bao nhiêu?\n",
      "**************************************************\n",
      "** Response: **\n",
      "assistant: None\n",
      "**************************************************\n",
      "\n",
      "\n",
      "Step run_agent_step produced event AgentOutput\n",
      "Running step parse_agent_output\n",
      "Step parse_agent_output produced no event\n",
      "Running step call_tool\n",
      "Step call_tool produced event ToolCallResult\n",
      "Running step aggregate_tool_results\n",
      "Step aggregate_tool_results produced event AgentInput\n",
      "Running step setup_agent\n",
      "Step setup_agent produced event AgentSetup\n",
      "Running step run_agent_step\n",
      "INFO:httpx:HTTP Request: POST https://api.openai.com/v1/chat/completions \"HTTP/1.1 200 OK\"\n",
      "HTTP Request: POST https://api.openai.com/v1/chat/completions \"HTTP/1.1 200 OK\"\n",
      "** Messages: **\n",
      "system: You are a helpful assistant that can answer questions about stock listings and quotes. You can pull stock listings and quotes from the Vnstock API, run SQL queries on Pandas DataFrames, and provide information about the data stored in the database.You can also clear the storage and get all table descriptions if user want to create a conversation with you.Note that data is not available at start, so you need to pull listings and quotes first before querying them.You can also visualize the data using Plotly charts but only for the final result of the query, not intermediate steps.\n",
      "user: Mã chứng khoán của Công ty Cổ phần Xi măng và Khoáng sản Yên Bái là gì?\n",
      "assistant: Mã chứng khoán của Công ty Cổ phần Xi măng và Khoáng sản Yên Bái là \"YBC\".\n",
      "user: Từ ngày 2024-10-01 đến 2025-03-31, giá cao nhất và thấp nhất của cổ phiếu YBC là bao nhiêu?\n",
      "assistant: None\n",
      "tool: YBC_quotes_2024_10_01__2025_03_31__1D\n",
      "**************************************************\n",
      "** Response: **\n",
      "assistant: None\n",
      "**************************************************\n",
      "\n",
      "\n",
      "Step run_agent_step produced event AgentOutput\n",
      "Running step parse_agent_output\n",
      "Step parse_agent_output produced no event\n",
      "Running step call_tool\n",
      "Step call_tool produced event ToolCallResult\n",
      "Running step aggregate_tool_results\n",
      "Step aggregate_tool_results produced event AgentInput\n",
      "Running step setup_agent\n",
      "Step setup_agent produced event AgentSetup\n",
      "Running step run_agent_step\n",
      "INFO:httpx:HTTP Request: POST https://api.openai.com/v1/chat/completions \"HTTP/1.1 200 OK\"\n",
      "HTTP Request: POST https://api.openai.com/v1/chat/completions \"HTTP/1.1 200 OK\"\n",
      "** Messages: **\n",
      "system: You are a helpful assistant that can answer questions about stock listings and quotes. You can pull stock listings and quotes from the Vnstock API, run SQL queries on Pandas DataFrames, and provide information about the data stored in the database.You can also clear the storage and get all table descriptions if user want to create a conversation with you.Note that data is not available at start, so you need to pull listings and quotes first before querying them.You can also visualize the data using Plotly charts but only for the final result of the query, not intermediate steps.\n",
      "user: Mã chứng khoán của Công ty Cổ phần Xi măng và Khoáng sản Yên Bái là gì?\n",
      "assistant: Mã chứng khoán của Công ty Cổ phần Xi măng và Khoáng sản Yên Bái là \"YBC\".\n",
      "user: Từ ngày 2024-10-01 đến 2025-03-31, giá cao nhất và thấp nhất của cổ phiếu YBC là bao nhiêu?\n",
      "assistant: None\n",
      "tool: YBC_quotes_2024_10_01__2025_03_31__1D\n",
      "assistant: None\n",
      "tool: {\n",
      "    \"data\": [\n",
      "        {\n",
      "            \"type\": \"bar\",\n",
      "            \"x\": [\"Highest Price\", \"Lowest Price\"],\n",
      "            \"y\": [25.0, 5.1]\n",
      "        }\n",
      "    ],\n",
      "    \"layout\": {\n",
      "        \"title\": \"Highest and Lowest Prices of YBC Quotes (2024-10-01 to 2025-03-31)\",\n",
      "        \"xaxis\": {\n",
      "            \"title\": \"Price Type\"\n",
      "        },\n",
      "        \"yaxis\": {\n",
      "            \"title\": \"Price Value\"\n",
      "        }\n",
      "    }\n",
      "}\n",
      "**************************************************\n",
      "** Response: **\n",
      "assistant: None\n",
      "**************************************************\n",
      "\n",
      "\n",
      "Step run_agent_step produced event AgentOutput\n",
      "Running step parse_agent_output\n",
      "Step parse_agent_output produced no event\n",
      "Running step call_tool\n"
     ]
    },
    {
     "data": {
      "application/vnd.plotly.v1+json": {
       "config": {
        "plotlyServerURL": "https://plot.ly"
       },
       "data": [
        {
         "type": "bar",
         "x": [
          "Highest Price",
          "Lowest Price"
         ],
         "y": [
          25,
          5.1
         ]
        }
       ],
       "layout": {
        "template": {
         "data": {
          "bar": [
           {
            "error_x": {
             "color": "#2a3f5f"
            },
            "error_y": {
             "color": "#2a3f5f"
            },
            "marker": {
             "line": {
              "color": "#E5ECF6",
              "width": 0.5
             },
             "pattern": {
              "fillmode": "overlay",
              "size": 10,
              "solidity": 0.2
             }
            },
            "type": "bar"
           }
          ],
          "barpolar": [
           {
            "marker": {
             "line": {
              "color": "#E5ECF6",
              "width": 0.5
             },
             "pattern": {
              "fillmode": "overlay",
              "size": 10,
              "solidity": 0.2
             }
            },
            "type": "barpolar"
           }
          ],
          "carpet": [
           {
            "aaxis": {
             "endlinecolor": "#2a3f5f",
             "gridcolor": "white",
             "linecolor": "white",
             "minorgridcolor": "white",
             "startlinecolor": "#2a3f5f"
            },
            "baxis": {
             "endlinecolor": "#2a3f5f",
             "gridcolor": "white",
             "linecolor": "white",
             "minorgridcolor": "white",
             "startlinecolor": "#2a3f5f"
            },
            "type": "carpet"
           }
          ],
          "choropleth": [
           {
            "colorbar": {
             "outlinewidth": 0,
             "ticks": ""
            },
            "type": "choropleth"
           }
          ],
          "contour": [
           {
            "colorbar": {
             "outlinewidth": 0,
             "ticks": ""
            },
            "colorscale": [
             [
              0,
              "#0d0887"
             ],
             [
              0.1111111111111111,
              "#46039f"
             ],
             [
              0.2222222222222222,
              "#7201a8"
             ],
             [
              0.3333333333333333,
              "#9c179e"
             ],
             [
              0.4444444444444444,
              "#bd3786"
             ],
             [
              0.5555555555555556,
              "#d8576b"
             ],
             [
              0.6666666666666666,
              "#ed7953"
             ],
             [
              0.7777777777777778,
              "#fb9f3a"
             ],
             [
              0.8888888888888888,
              "#fdca26"
             ],
             [
              1,
              "#f0f921"
             ]
            ],
            "type": "contour"
           }
          ],
          "contourcarpet": [
           {
            "colorbar": {
             "outlinewidth": 0,
             "ticks": ""
            },
            "type": "contourcarpet"
           }
          ],
          "heatmap": [
           {
            "colorbar": {
             "outlinewidth": 0,
             "ticks": ""
            },
            "colorscale": [
             [
              0,
              "#0d0887"
             ],
             [
              0.1111111111111111,
              "#46039f"
             ],
             [
              0.2222222222222222,
              "#7201a8"
             ],
             [
              0.3333333333333333,
              "#9c179e"
             ],
             [
              0.4444444444444444,
              "#bd3786"
             ],
             [
              0.5555555555555556,
              "#d8576b"
             ],
             [
              0.6666666666666666,
              "#ed7953"
             ],
             [
              0.7777777777777778,
              "#fb9f3a"
             ],
             [
              0.8888888888888888,
              "#fdca26"
             ],
             [
              1,
              "#f0f921"
             ]
            ],
            "type": "heatmap"
           }
          ],
          "histogram": [
           {
            "marker": {
             "pattern": {
              "fillmode": "overlay",
              "size": 10,
              "solidity": 0.2
             }
            },
            "type": "histogram"
           }
          ],
          "histogram2d": [
           {
            "colorbar": {
             "outlinewidth": 0,
             "ticks": ""
            },
            "colorscale": [
             [
              0,
              "#0d0887"
             ],
             [
              0.1111111111111111,
              "#46039f"
             ],
             [
              0.2222222222222222,
              "#7201a8"
             ],
             [
              0.3333333333333333,
              "#9c179e"
             ],
             [
              0.4444444444444444,
              "#bd3786"
             ],
             [
              0.5555555555555556,
              "#d8576b"
             ],
             [
              0.6666666666666666,
              "#ed7953"
             ],
             [
              0.7777777777777778,
              "#fb9f3a"
             ],
             [
              0.8888888888888888,
              "#fdca26"
             ],
             [
              1,
              "#f0f921"
             ]
            ],
            "type": "histogram2d"
           }
          ],
          "histogram2dcontour": [
           {
            "colorbar": {
             "outlinewidth": 0,
             "ticks": ""
            },
            "colorscale": [
             [
              0,
              "#0d0887"
             ],
             [
              0.1111111111111111,
              "#46039f"
             ],
             [
              0.2222222222222222,
              "#7201a8"
             ],
             [
              0.3333333333333333,
              "#9c179e"
             ],
             [
              0.4444444444444444,
              "#bd3786"
             ],
             [
              0.5555555555555556,
              "#d8576b"
             ],
             [
              0.6666666666666666,
              "#ed7953"
             ],
             [
              0.7777777777777778,
              "#fb9f3a"
             ],
             [
              0.8888888888888888,
              "#fdca26"
             ],
             [
              1,
              "#f0f921"
             ]
            ],
            "type": "histogram2dcontour"
           }
          ],
          "mesh3d": [
           {
            "colorbar": {
             "outlinewidth": 0,
             "ticks": ""
            },
            "type": "mesh3d"
           }
          ],
          "parcoords": [
           {
            "line": {
             "colorbar": {
              "outlinewidth": 0,
              "ticks": ""
             }
            },
            "type": "parcoords"
           }
          ],
          "pie": [
           {
            "automargin": true,
            "type": "pie"
           }
          ],
          "scatter": [
           {
            "fillpattern": {
             "fillmode": "overlay",
             "size": 10,
             "solidity": 0.2
            },
            "type": "scatter"
           }
          ],
          "scatter3d": [
           {
            "line": {
             "colorbar": {
              "outlinewidth": 0,
              "ticks": ""
             }
            },
            "marker": {
             "colorbar": {
              "outlinewidth": 0,
              "ticks": ""
             }
            },
            "type": "scatter3d"
           }
          ],
          "scattercarpet": [
           {
            "marker": {
             "colorbar": {
              "outlinewidth": 0,
              "ticks": ""
             }
            },
            "type": "scattercarpet"
           }
          ],
          "scattergeo": [
           {
            "marker": {
             "colorbar": {
              "outlinewidth": 0,
              "ticks": ""
             }
            },
            "type": "scattergeo"
           }
          ],
          "scattergl": [
           {
            "marker": {
             "colorbar": {
              "outlinewidth": 0,
              "ticks": ""
             }
            },
            "type": "scattergl"
           }
          ],
          "scattermap": [
           {
            "marker": {
             "colorbar": {
              "outlinewidth": 0,
              "ticks": ""
             }
            },
            "type": "scattermap"
           }
          ],
          "scattermapbox": [
           {
            "marker": {
             "colorbar": {
              "outlinewidth": 0,
              "ticks": ""
             }
            },
            "type": "scattermapbox"
           }
          ],
          "scatterpolar": [
           {
            "marker": {
             "colorbar": {
              "outlinewidth": 0,
              "ticks": ""
             }
            },
            "type": "scatterpolar"
           }
          ],
          "scatterpolargl": [
           {
            "marker": {
             "colorbar": {
              "outlinewidth": 0,
              "ticks": ""
             }
            },
            "type": "scatterpolargl"
           }
          ],
          "scatterternary": [
           {
            "marker": {
             "colorbar": {
              "outlinewidth": 0,
              "ticks": ""
             }
            },
            "type": "scatterternary"
           }
          ],
          "surface": [
           {
            "colorbar": {
             "outlinewidth": 0,
             "ticks": ""
            },
            "colorscale": [
             [
              0,
              "#0d0887"
             ],
             [
              0.1111111111111111,
              "#46039f"
             ],
             [
              0.2222222222222222,
              "#7201a8"
             ],
             [
              0.3333333333333333,
              "#9c179e"
             ],
             [
              0.4444444444444444,
              "#bd3786"
             ],
             [
              0.5555555555555556,
              "#d8576b"
             ],
             [
              0.6666666666666666,
              "#ed7953"
             ],
             [
              0.7777777777777778,
              "#fb9f3a"
             ],
             [
              0.8888888888888888,
              "#fdca26"
             ],
             [
              1,
              "#f0f921"
             ]
            ],
            "type": "surface"
           }
          ],
          "table": [
           {
            "cells": {
             "fill": {
              "color": "#EBF0F8"
             },
             "line": {
              "color": "white"
             }
            },
            "header": {
             "fill": {
              "color": "#C8D4E3"
             },
             "line": {
              "color": "white"
             }
            },
            "type": "table"
           }
          ]
         },
         "layout": {
          "annotationdefaults": {
           "arrowcolor": "#2a3f5f",
           "arrowhead": 0,
           "arrowwidth": 1
          },
          "autotypenumbers": "strict",
          "coloraxis": {
           "colorbar": {
            "outlinewidth": 0,
            "ticks": ""
           }
          },
          "colorscale": {
           "diverging": [
            [
             0,
             "#8e0152"
            ],
            [
             0.1,
             "#c51b7d"
            ],
            [
             0.2,
             "#de77ae"
            ],
            [
             0.3,
             "#f1b6da"
            ],
            [
             0.4,
             "#fde0ef"
            ],
            [
             0.5,
             "#f7f7f7"
            ],
            [
             0.6,
             "#e6f5d0"
            ],
            [
             0.7,
             "#b8e186"
            ],
            [
             0.8,
             "#7fbc41"
            ],
            [
             0.9,
             "#4d9221"
            ],
            [
             1,
             "#276419"
            ]
           ],
           "sequential": [
            [
             0,
             "#0d0887"
            ],
            [
             0.1111111111111111,
             "#46039f"
            ],
            [
             0.2222222222222222,
             "#7201a8"
            ],
            [
             0.3333333333333333,
             "#9c179e"
            ],
            [
             0.4444444444444444,
             "#bd3786"
            ],
            [
             0.5555555555555556,
             "#d8576b"
            ],
            [
             0.6666666666666666,
             "#ed7953"
            ],
            [
             0.7777777777777778,
             "#fb9f3a"
            ],
            [
             0.8888888888888888,
             "#fdca26"
            ],
            [
             1,
             "#f0f921"
            ]
           ],
           "sequentialminus": [
            [
             0,
             "#0d0887"
            ],
            [
             0.1111111111111111,
             "#46039f"
            ],
            [
             0.2222222222222222,
             "#7201a8"
            ],
            [
             0.3333333333333333,
             "#9c179e"
            ],
            [
             0.4444444444444444,
             "#bd3786"
            ],
            [
             0.5555555555555556,
             "#d8576b"
            ],
            [
             0.6666666666666666,
             "#ed7953"
            ],
            [
             0.7777777777777778,
             "#fb9f3a"
            ],
            [
             0.8888888888888888,
             "#fdca26"
            ],
            [
             1,
             "#f0f921"
            ]
           ]
          },
          "colorway": [
           "#636efa",
           "#EF553B",
           "#00cc96",
           "#ab63fa",
           "#FFA15A",
           "#19d3f3",
           "#FF6692",
           "#B6E880",
           "#FF97FF",
           "#FECB52"
          ],
          "font": {
           "color": "#2a3f5f"
          },
          "geo": {
           "bgcolor": "white",
           "lakecolor": "white",
           "landcolor": "#E5ECF6",
           "showlakes": true,
           "showland": true,
           "subunitcolor": "white"
          },
          "hoverlabel": {
           "align": "left"
          },
          "hovermode": "closest",
          "mapbox": {
           "style": "light"
          },
          "paper_bgcolor": "white",
          "plot_bgcolor": "#E5ECF6",
          "polar": {
           "angularaxis": {
            "gridcolor": "white",
            "linecolor": "white",
            "ticks": ""
           },
           "bgcolor": "#E5ECF6",
           "radialaxis": {
            "gridcolor": "white",
            "linecolor": "white",
            "ticks": ""
           }
          },
          "scene": {
           "xaxis": {
            "backgroundcolor": "#E5ECF6",
            "gridcolor": "white",
            "gridwidth": 2,
            "linecolor": "white",
            "showbackground": true,
            "ticks": "",
            "zerolinecolor": "white"
           },
           "yaxis": {
            "backgroundcolor": "#E5ECF6",
            "gridcolor": "white",
            "gridwidth": 2,
            "linecolor": "white",
            "showbackground": true,
            "ticks": "",
            "zerolinecolor": "white"
           },
           "zaxis": {
            "backgroundcolor": "#E5ECF6",
            "gridcolor": "white",
            "gridwidth": 2,
            "linecolor": "white",
            "showbackground": true,
            "ticks": "",
            "zerolinecolor": "white"
           }
          },
          "shapedefaults": {
           "line": {
            "color": "#2a3f5f"
           }
          },
          "ternary": {
           "aaxis": {
            "gridcolor": "white",
            "linecolor": "white",
            "ticks": ""
           },
           "baxis": {
            "gridcolor": "white",
            "linecolor": "white",
            "ticks": ""
           },
           "bgcolor": "#E5ECF6",
           "caxis": {
            "gridcolor": "white",
            "linecolor": "white",
            "ticks": ""
           }
          },
          "title": {
           "x": 0.05
          },
          "xaxis": {
           "automargin": true,
           "gridcolor": "white",
           "linecolor": "white",
           "ticks": "",
           "title": {
            "standoff": 15
           },
           "zerolinecolor": "white",
           "zerolinewidth": 2
          },
          "yaxis": {
           "automargin": true,
           "gridcolor": "white",
           "linecolor": "white",
           "ticks": "",
           "title": {
            "standoff": 15
           },
           "zerolinecolor": "white",
           "zerolinewidth": 2
          }
         }
        },
        "title": {
         "text": "Highest and Lowest Prices of YBC Quotes (2024-10-01 to 2025-03-31)"
        },
        "xaxis": {
         "title": {
          "text": "Price Type"
         }
        },
        "yaxis": {
         "title": {
          "text": "Price Value"
         }
        }
       }
      }
     },
     "metadata": {},
     "output_type": "display_data"
    },
    {
     "name": "stdout",
     "output_type": "stream",
     "text": [
      "Step call_tool produced event ToolCallResult\n",
      "Running step aggregate_tool_results\n",
      "Step aggregate_tool_results produced event AgentInput\n",
      "Running step setup_agent\n",
      "Step setup_agent produced event AgentSetup\n",
      "Running step run_agent_step\n",
      "INFO:httpx:HTTP Request: POST https://api.openai.com/v1/chat/completions \"HTTP/1.1 200 OK\"\n",
      "HTTP Request: POST https://api.openai.com/v1/chat/completions \"HTTP/1.1 200 OK\"\n",
      "** Messages: **\n",
      "system: You are a helpful assistant that can answer questions about stock listings and quotes. You can pull stock listings and quotes from the Vnstock API, run SQL queries on Pandas DataFrames, and provide information about the data stored in the database.You can also clear the storage and get all table descriptions if user want to create a conversation with you.Note that data is not available at start, so you need to pull listings and quotes first before querying them.You can also visualize the data using Plotly charts but only for the final result of the query, not intermediate steps.\n",
      "user: Mã chứng khoán của Công ty Cổ phần Xi măng và Khoáng sản Yên Bái là gì?\n",
      "assistant: Mã chứng khoán của Công ty Cổ phần Xi măng và Khoáng sản Yên Bái là \"YBC\".\n",
      "user: Từ ngày 2024-10-01 đến 2025-03-31, giá cao nhất và thấp nhất của cổ phiếu YBC là bao nhiêu?\n",
      "assistant: None\n",
      "tool: YBC_quotes_2024_10_01__2025_03_31__1D\n",
      "assistant: None\n",
      "tool: {\n",
      "    \"data\": [\n",
      "        {\n",
      "            \"type\": \"bar\",\n",
      "            \"x\": [\"Highest Price\", \"Lowest Price\"],\n",
      "            \"y\": [25.0, 5.1]\n",
      "        }\n",
      "    ],\n",
      "    \"layout\": {\n",
      "        \"title\": \"Highest and Lowest Prices of YBC Quotes (2024-10-01 to 2025-03-31)\",\n",
      "        \"xaxis\": {\n",
      "            \"title\": \"Price Type\"\n",
      "        },\n",
      "        \"yaxis\": {\n",
      "            \"title\": \"Price Value\"\n",
      "        }\n",
      "    }\n",
      "}\n",
      "assistant: None\n",
      "tool: None\n",
      "**************************************************\n",
      "** Response: **\n",
      "assistant: Từ ngày 2024-10-01 đến 2025-03-31, giá cao nhất của cổ phiếu YBC là 25.0 và giá thấp nhất là 5.1.\n",
      "**************************************************\n",
      "\n",
      "\n",
      "Step run_agent_step produced event AgentOutput\n",
      "Running step parse_agent_output\n",
      "Step parse_agent_output produced event StopEvent\n",
      "Từ ngày 2024-10-01 đến 2025-03-31, giá cao nhất của cổ phiếu YBC là 25.0 và giá thấp nhất là 5.1.\n"
     ]
    }
   ],
   "source": [
    "response = await workflow.run(\n",
    "    \"Từ ngày 2024-10-01 đến 2025-03-31, giá cao nhất và thấp nhất của cổ phiếu YBC là bao nhiêu?\",\n",
    ")\n",
    "\n",
    "print(str(response))"
   ]
  },
  {
   "cell_type": "code",
   "execution_count": 29,
   "id": "e22c51b5",
   "metadata": {},
   "outputs": [
    {
     "name": "stdout",
     "output_type": "stream",
     "text": [
      "Running step init_run\n",
      "Step init_run produced event AgentInput\n",
      "Running step setup_agent\n",
      "Step setup_agent produced event AgentSetup\n",
      "Running step run_agent_step\n",
      "INFO:httpx:HTTP Request: POST https://api.openai.com/v1/chat/completions \"HTTP/1.1 200 OK\"\n",
      "HTTP Request: POST https://api.openai.com/v1/chat/completions \"HTTP/1.1 200 OK\"\n",
      "** Messages: **\n",
      "system: You are a helpful assistant that can answer questions about stock listings and quotes. You can pull stock listings and quotes from the Vnstock API, run SQL queries on Pandas DataFrames, and provide information about the data stored in the database.You can also clear the storage and get all table descriptions if user want to create a conversation with you.Note that data is not available at start, so you need to pull listings and quotes first before querying them.You can also visualize the data using Plotly charts but only for the final result of the query, not intermediate steps.\n",
      "user: Trong một tháng qua, cổ phiếu YBC có xu hướng tăng hay giảm?\n",
      "**************************************************\n",
      "** Response: **\n",
      "assistant: None\n",
      "**************************************************\n",
      "\n",
      "\n",
      "Step run_agent_step produced event AgentOutput\n",
      "Running step parse_agent_output\n",
      "Step parse_agent_output produced no event\n",
      "Running step call_tool\n",
      "Step call_tool produced event ToolCallResult\n",
      "Running step aggregate_tool_results\n",
      "Step aggregate_tool_results produced event AgentInput\n",
      "Running step setup_agent\n",
      "Step setup_agent produced event AgentSetup\n",
      "Running step run_agent_step\n",
      "INFO:httpx:HTTP Request: POST https://api.openai.com/v1/chat/completions \"HTTP/1.1 200 OK\"\n",
      "HTTP Request: POST https://api.openai.com/v1/chat/completions \"HTTP/1.1 200 OK\"\n",
      "** Messages: **\n",
      "system: You are a helpful assistant that can answer questions about stock listings and quotes. You can pull stock listings and quotes from the Vnstock API, run SQL queries on Pandas DataFrames, and provide information about the data stored in the database.You can also clear the storage and get all table descriptions if user want to create a conversation with you.Note that data is not available at start, so you need to pull listings and quotes first before querying them.You can also visualize the data using Plotly charts but only for the final result of the query, not intermediate steps.\n",
      "user: Trong một tháng qua, cổ phiếu YBC có xu hướng tăng hay giảm?\n",
      "assistant: None\n",
      "tool: 2025-06-22\n",
      "**************************************************\n",
      "** Response: **\n",
      "assistant: None\n",
      "**************************************************\n",
      "\n",
      "\n",
      "Step run_agent_step produced event AgentOutput\n",
      "Running step parse_agent_output\n",
      "Step parse_agent_output produced no event\n",
      "Running step call_tool\n",
      "Running step call_tool\n",
      "Step call_tool produced event ToolCallResult\n",
      "Running step aggregate_tool_results\n",
      "Step aggregate_tool_results produced no event\n",
      "Step call_tool produced event ToolCallResult\n",
      "Running step aggregate_tool_results\n",
      "Step aggregate_tool_results produced event AgentInput\n",
      "Running step setup_agent\n",
      "Step setup_agent produced event AgentSetup\n",
      "Running step run_agent_step\n",
      "INFO:httpx:HTTP Request: POST https://api.openai.com/v1/chat/completions \"HTTP/1.1 200 OK\"\n",
      "HTTP Request: POST https://api.openai.com/v1/chat/completions \"HTTP/1.1 200 OK\"\n",
      "** Messages: **\n",
      "system: You are a helpful assistant that can answer questions about stock listings and quotes. You can pull stock listings and quotes from the Vnstock API, run SQL queries on Pandas DataFrames, and provide information about the data stored in the database.You can also clear the storage and get all table descriptions if user want to create a conversation with you.Note that data is not available at start, so you need to pull listings and quotes first before querying them.You can also visualize the data using Plotly charts but only for the final result of the query, not intermediate steps.\n",
      "user: Trong một tháng qua, cổ phiếu YBC có xu hướng tăng hay giảm?\n",
      "assistant: None\n",
      "tool: 2025-06-22\n",
      "assistant: None\n",
      "tool: listings\n",
      "tool: YBC_quotes_2025_05_22__2025_06_22__1D\n",
      "**************************************************\n",
      "** Response: **\n",
      "assistant: None\n",
      "**************************************************\n",
      "\n",
      "\n",
      "Step run_agent_step produced event AgentOutput\n",
      "Running step parse_agent_output\n",
      "Step parse_agent_output produced no event\n",
      "Running step call_tool\n",
      "Step call_tool produced event ToolCallResult\n",
      "Running step aggregate_tool_results\n",
      "Step aggregate_tool_results produced event AgentInput\n",
      "Running step setup_agent\n",
      "Step setup_agent produced event AgentSetup\n",
      "Running step run_agent_step\n",
      "INFO:httpx:HTTP Request: POST https://api.openai.com/v1/chat/completions \"HTTP/1.1 200 OK\"\n",
      "HTTP Request: POST https://api.openai.com/v1/chat/completions \"HTTP/1.1 200 OK\"\n",
      "** Messages: **\n",
      "system: You are a helpful assistant that can answer questions about stock listings and quotes. You can pull stock listings and quotes from the Vnstock API, run SQL queries on Pandas DataFrames, and provide information about the data stored in the database.You can also clear the storage and get all table descriptions if user want to create a conversation with you.Note that data is not available at start, so you need to pull listings and quotes first before querying them.You can also visualize the data using Plotly charts but only for the final result of the query, not intermediate steps.\n",
      "user: Trong một tháng qua, cổ phiếu YBC có xu hướng tăng hay giảm?\n",
      "assistant: None\n",
      "tool: 2025-06-22\n",
      "assistant: None\n",
      "tool: listings\n",
      "tool: YBC_quotes_2025_05_22__2025_06_22__1D\n",
      "assistant: None\n",
      "tool: {\n",
      "    \"data\": {\n",
      "        \"x\": [\"2025-05-23\", \"2025-05-26\", \"2025-05-28\", \"2025-06-02\", \"2025-06-03\", \"2025-06-09\", \"2025-06-12\", \"2025-06-16\", \"2025-06-17\"],\n",
      "        \"y\": [12.5, 12.5, 11.0, 10.2, 10.7, 10.7, 10.7, 10.7, 11.7],\n",
      "        \"type\": \"scatter\"\n",
      "    },\n",
      "    \"layout\": {\n",
      "        \"title\": \"Closing Prices from 2025-05-22 to 2025-06-22\",\n",
      "        \"xaxis\": {\n",
      "            \"title\": \"Date\"\n",
      "        },\n",
      "        \"yaxis\": {\n",
      "            \"title\": \"Closing Price\"\n",
      "        }\n",
      "    }\n",
      "}\n",
      "**************************************************\n",
      "** Response: **\n",
      "assistant: None\n",
      "**************************************************\n",
      "\n",
      "\n",
      "Step run_agent_step produced event AgentOutput\n",
      "Running step parse_agent_output\n",
      "Step parse_agent_output produced no event\n",
      "Running step call_tool\n"
     ]
    },
    {
     "data": {
      "application/vnd.plotly.v1+json": {
       "config": {
        "plotlyServerURL": "https://plot.ly"
       },
       "data": [
        {
         "type": "scatter",
         "x": [
          "2025-05-23",
          "2025-05-26",
          "2025-05-28",
          "2025-06-02",
          "2025-06-03",
          "2025-06-09",
          "2025-06-12",
          "2025-06-16",
          "2025-06-17"
         ],
         "y": [
          12.5,
          12.5,
          11,
          10.2,
          10.7,
          10.7,
          10.7,
          10.7,
          11.7
         ]
        }
       ],
       "layout": {
        "template": {
         "data": {
          "bar": [
           {
            "error_x": {
             "color": "#2a3f5f"
            },
            "error_y": {
             "color": "#2a3f5f"
            },
            "marker": {
             "line": {
              "color": "#E5ECF6",
              "width": 0.5
             },
             "pattern": {
              "fillmode": "overlay",
              "size": 10,
              "solidity": 0.2
             }
            },
            "type": "bar"
           }
          ],
          "barpolar": [
           {
            "marker": {
             "line": {
              "color": "#E5ECF6",
              "width": 0.5
             },
             "pattern": {
              "fillmode": "overlay",
              "size": 10,
              "solidity": 0.2
             }
            },
            "type": "barpolar"
           }
          ],
          "carpet": [
           {
            "aaxis": {
             "endlinecolor": "#2a3f5f",
             "gridcolor": "white",
             "linecolor": "white",
             "minorgridcolor": "white",
             "startlinecolor": "#2a3f5f"
            },
            "baxis": {
             "endlinecolor": "#2a3f5f",
             "gridcolor": "white",
             "linecolor": "white",
             "minorgridcolor": "white",
             "startlinecolor": "#2a3f5f"
            },
            "type": "carpet"
           }
          ],
          "choropleth": [
           {
            "colorbar": {
             "outlinewidth": 0,
             "ticks": ""
            },
            "type": "choropleth"
           }
          ],
          "contour": [
           {
            "colorbar": {
             "outlinewidth": 0,
             "ticks": ""
            },
            "colorscale": [
             [
              0,
              "#0d0887"
             ],
             [
              0.1111111111111111,
              "#46039f"
             ],
             [
              0.2222222222222222,
              "#7201a8"
             ],
             [
              0.3333333333333333,
              "#9c179e"
             ],
             [
              0.4444444444444444,
              "#bd3786"
             ],
             [
              0.5555555555555556,
              "#d8576b"
             ],
             [
              0.6666666666666666,
              "#ed7953"
             ],
             [
              0.7777777777777778,
              "#fb9f3a"
             ],
             [
              0.8888888888888888,
              "#fdca26"
             ],
             [
              1,
              "#f0f921"
             ]
            ],
            "type": "contour"
           }
          ],
          "contourcarpet": [
           {
            "colorbar": {
             "outlinewidth": 0,
             "ticks": ""
            },
            "type": "contourcarpet"
           }
          ],
          "heatmap": [
           {
            "colorbar": {
             "outlinewidth": 0,
             "ticks": ""
            },
            "colorscale": [
             [
              0,
              "#0d0887"
             ],
             [
              0.1111111111111111,
              "#46039f"
             ],
             [
              0.2222222222222222,
              "#7201a8"
             ],
             [
              0.3333333333333333,
              "#9c179e"
             ],
             [
              0.4444444444444444,
              "#bd3786"
             ],
             [
              0.5555555555555556,
              "#d8576b"
             ],
             [
              0.6666666666666666,
              "#ed7953"
             ],
             [
              0.7777777777777778,
              "#fb9f3a"
             ],
             [
              0.8888888888888888,
              "#fdca26"
             ],
             [
              1,
              "#f0f921"
             ]
            ],
            "type": "heatmap"
           }
          ],
          "histogram": [
           {
            "marker": {
             "pattern": {
              "fillmode": "overlay",
              "size": 10,
              "solidity": 0.2
             }
            },
            "type": "histogram"
           }
          ],
          "histogram2d": [
           {
            "colorbar": {
             "outlinewidth": 0,
             "ticks": ""
            },
            "colorscale": [
             [
              0,
              "#0d0887"
             ],
             [
              0.1111111111111111,
              "#46039f"
             ],
             [
              0.2222222222222222,
              "#7201a8"
             ],
             [
              0.3333333333333333,
              "#9c179e"
             ],
             [
              0.4444444444444444,
              "#bd3786"
             ],
             [
              0.5555555555555556,
              "#d8576b"
             ],
             [
              0.6666666666666666,
              "#ed7953"
             ],
             [
              0.7777777777777778,
              "#fb9f3a"
             ],
             [
              0.8888888888888888,
              "#fdca26"
             ],
             [
              1,
              "#f0f921"
             ]
            ],
            "type": "histogram2d"
           }
          ],
          "histogram2dcontour": [
           {
            "colorbar": {
             "outlinewidth": 0,
             "ticks": ""
            },
            "colorscale": [
             [
              0,
              "#0d0887"
             ],
             [
              0.1111111111111111,
              "#46039f"
             ],
             [
              0.2222222222222222,
              "#7201a8"
             ],
             [
              0.3333333333333333,
              "#9c179e"
             ],
             [
              0.4444444444444444,
              "#bd3786"
             ],
             [
              0.5555555555555556,
              "#d8576b"
             ],
             [
              0.6666666666666666,
              "#ed7953"
             ],
             [
              0.7777777777777778,
              "#fb9f3a"
             ],
             [
              0.8888888888888888,
              "#fdca26"
             ],
             [
              1,
              "#f0f921"
             ]
            ],
            "type": "histogram2dcontour"
           }
          ],
          "mesh3d": [
           {
            "colorbar": {
             "outlinewidth": 0,
             "ticks": ""
            },
            "type": "mesh3d"
           }
          ],
          "parcoords": [
           {
            "line": {
             "colorbar": {
              "outlinewidth": 0,
              "ticks": ""
             }
            },
            "type": "parcoords"
           }
          ],
          "pie": [
           {
            "automargin": true,
            "type": "pie"
           }
          ],
          "scatter": [
           {
            "fillpattern": {
             "fillmode": "overlay",
             "size": 10,
             "solidity": 0.2
            },
            "type": "scatter"
           }
          ],
          "scatter3d": [
           {
            "line": {
             "colorbar": {
              "outlinewidth": 0,
              "ticks": ""
             }
            },
            "marker": {
             "colorbar": {
              "outlinewidth": 0,
              "ticks": ""
             }
            },
            "type": "scatter3d"
           }
          ],
          "scattercarpet": [
           {
            "marker": {
             "colorbar": {
              "outlinewidth": 0,
              "ticks": ""
             }
            },
            "type": "scattercarpet"
           }
          ],
          "scattergeo": [
           {
            "marker": {
             "colorbar": {
              "outlinewidth": 0,
              "ticks": ""
             }
            },
            "type": "scattergeo"
           }
          ],
          "scattergl": [
           {
            "marker": {
             "colorbar": {
              "outlinewidth": 0,
              "ticks": ""
             }
            },
            "type": "scattergl"
           }
          ],
          "scattermap": [
           {
            "marker": {
             "colorbar": {
              "outlinewidth": 0,
              "ticks": ""
             }
            },
            "type": "scattermap"
           }
          ],
          "scattermapbox": [
           {
            "marker": {
             "colorbar": {
              "outlinewidth": 0,
              "ticks": ""
             }
            },
            "type": "scattermapbox"
           }
          ],
          "scatterpolar": [
           {
            "marker": {
             "colorbar": {
              "outlinewidth": 0,
              "ticks": ""
             }
            },
            "type": "scatterpolar"
           }
          ],
          "scatterpolargl": [
           {
            "marker": {
             "colorbar": {
              "outlinewidth": 0,
              "ticks": ""
             }
            },
            "type": "scatterpolargl"
           }
          ],
          "scatterternary": [
           {
            "marker": {
             "colorbar": {
              "outlinewidth": 0,
              "ticks": ""
             }
            },
            "type": "scatterternary"
           }
          ],
          "surface": [
           {
            "colorbar": {
             "outlinewidth": 0,
             "ticks": ""
            },
            "colorscale": [
             [
              0,
              "#0d0887"
             ],
             [
              0.1111111111111111,
              "#46039f"
             ],
             [
              0.2222222222222222,
              "#7201a8"
             ],
             [
              0.3333333333333333,
              "#9c179e"
             ],
             [
              0.4444444444444444,
              "#bd3786"
             ],
             [
              0.5555555555555556,
              "#d8576b"
             ],
             [
              0.6666666666666666,
              "#ed7953"
             ],
             [
              0.7777777777777778,
              "#fb9f3a"
             ],
             [
              0.8888888888888888,
              "#fdca26"
             ],
             [
              1,
              "#f0f921"
             ]
            ],
            "type": "surface"
           }
          ],
          "table": [
           {
            "cells": {
             "fill": {
              "color": "#EBF0F8"
             },
             "line": {
              "color": "white"
             }
            },
            "header": {
             "fill": {
              "color": "#C8D4E3"
             },
             "line": {
              "color": "white"
             }
            },
            "type": "table"
           }
          ]
         },
         "layout": {
          "annotationdefaults": {
           "arrowcolor": "#2a3f5f",
           "arrowhead": 0,
           "arrowwidth": 1
          },
          "autotypenumbers": "strict",
          "coloraxis": {
           "colorbar": {
            "outlinewidth": 0,
            "ticks": ""
           }
          },
          "colorscale": {
           "diverging": [
            [
             0,
             "#8e0152"
            ],
            [
             0.1,
             "#c51b7d"
            ],
            [
             0.2,
             "#de77ae"
            ],
            [
             0.3,
             "#f1b6da"
            ],
            [
             0.4,
             "#fde0ef"
            ],
            [
             0.5,
             "#f7f7f7"
            ],
            [
             0.6,
             "#e6f5d0"
            ],
            [
             0.7,
             "#b8e186"
            ],
            [
             0.8,
             "#7fbc41"
            ],
            [
             0.9,
             "#4d9221"
            ],
            [
             1,
             "#276419"
            ]
           ],
           "sequential": [
            [
             0,
             "#0d0887"
            ],
            [
             0.1111111111111111,
             "#46039f"
            ],
            [
             0.2222222222222222,
             "#7201a8"
            ],
            [
             0.3333333333333333,
             "#9c179e"
            ],
            [
             0.4444444444444444,
             "#bd3786"
            ],
            [
             0.5555555555555556,
             "#d8576b"
            ],
            [
             0.6666666666666666,
             "#ed7953"
            ],
            [
             0.7777777777777778,
             "#fb9f3a"
            ],
            [
             0.8888888888888888,
             "#fdca26"
            ],
            [
             1,
             "#f0f921"
            ]
           ],
           "sequentialminus": [
            [
             0,
             "#0d0887"
            ],
            [
             0.1111111111111111,
             "#46039f"
            ],
            [
             0.2222222222222222,
             "#7201a8"
            ],
            [
             0.3333333333333333,
             "#9c179e"
            ],
            [
             0.4444444444444444,
             "#bd3786"
            ],
            [
             0.5555555555555556,
             "#d8576b"
            ],
            [
             0.6666666666666666,
             "#ed7953"
            ],
            [
             0.7777777777777778,
             "#fb9f3a"
            ],
            [
             0.8888888888888888,
             "#fdca26"
            ],
            [
             1,
             "#f0f921"
            ]
           ]
          },
          "colorway": [
           "#636efa",
           "#EF553B",
           "#00cc96",
           "#ab63fa",
           "#FFA15A",
           "#19d3f3",
           "#FF6692",
           "#B6E880",
           "#FF97FF",
           "#FECB52"
          ],
          "font": {
           "color": "#2a3f5f"
          },
          "geo": {
           "bgcolor": "white",
           "lakecolor": "white",
           "landcolor": "#E5ECF6",
           "showlakes": true,
           "showland": true,
           "subunitcolor": "white"
          },
          "hoverlabel": {
           "align": "left"
          },
          "hovermode": "closest",
          "mapbox": {
           "style": "light"
          },
          "paper_bgcolor": "white",
          "plot_bgcolor": "#E5ECF6",
          "polar": {
           "angularaxis": {
            "gridcolor": "white",
            "linecolor": "white",
            "ticks": ""
           },
           "bgcolor": "#E5ECF6",
           "radialaxis": {
            "gridcolor": "white",
            "linecolor": "white",
            "ticks": ""
           }
          },
          "scene": {
           "xaxis": {
            "backgroundcolor": "#E5ECF6",
            "gridcolor": "white",
            "gridwidth": 2,
            "linecolor": "white",
            "showbackground": true,
            "ticks": "",
            "zerolinecolor": "white"
           },
           "yaxis": {
            "backgroundcolor": "#E5ECF6",
            "gridcolor": "white",
            "gridwidth": 2,
            "linecolor": "white",
            "showbackground": true,
            "ticks": "",
            "zerolinecolor": "white"
           },
           "zaxis": {
            "backgroundcolor": "#E5ECF6",
            "gridcolor": "white",
            "gridwidth": 2,
            "linecolor": "white",
            "showbackground": true,
            "ticks": "",
            "zerolinecolor": "white"
           }
          },
          "shapedefaults": {
           "line": {
            "color": "#2a3f5f"
           }
          },
          "ternary": {
           "aaxis": {
            "gridcolor": "white",
            "linecolor": "white",
            "ticks": ""
           },
           "baxis": {
            "gridcolor": "white",
            "linecolor": "white",
            "ticks": ""
           },
           "bgcolor": "#E5ECF6",
           "caxis": {
            "gridcolor": "white",
            "linecolor": "white",
            "ticks": ""
           }
          },
          "title": {
           "x": 0.05
          },
          "xaxis": {
           "automargin": true,
           "gridcolor": "white",
           "linecolor": "white",
           "ticks": "",
           "title": {
            "standoff": 15
           },
           "zerolinecolor": "white",
           "zerolinewidth": 2
          },
          "yaxis": {
           "automargin": true,
           "gridcolor": "white",
           "linecolor": "white",
           "ticks": "",
           "title": {
            "standoff": 15
           },
           "zerolinecolor": "white",
           "zerolinewidth": 2
          }
         }
        },
        "title": {
         "text": "Closing Prices from 2025-05-22 to 2025-06-22"
        },
        "xaxis": {
         "title": {
          "text": "Date"
         }
        },
        "yaxis": {
         "title": {
          "text": "Closing Price"
         }
        }
       }
      }
     },
     "metadata": {},
     "output_type": "display_data"
    },
    {
     "name": "stdout",
     "output_type": "stream",
     "text": [
      "Step call_tool produced event ToolCallResult\n",
      "Running step aggregate_tool_results\n",
      "Step aggregate_tool_results produced event AgentInput\n",
      "Running step setup_agent\n",
      "Step setup_agent produced event AgentSetup\n",
      "Running step run_agent_step\n",
      "INFO:httpx:HTTP Request: POST https://api.openai.com/v1/chat/completions \"HTTP/1.1 200 OK\"\n",
      "HTTP Request: POST https://api.openai.com/v1/chat/completions \"HTTP/1.1 200 OK\"\n",
      "** Messages: **\n",
      "system: You are a helpful assistant that can answer questions about stock listings and quotes. You can pull stock listings and quotes from the Vnstock API, run SQL queries on Pandas DataFrames, and provide information about the data stored in the database.You can also clear the storage and get all table descriptions if user want to create a conversation with you.Note that data is not available at start, so you need to pull listings and quotes first before querying them.You can also visualize the data using Plotly charts but only for the final result of the query, not intermediate steps.\n",
      "user: Trong một tháng qua, cổ phiếu YBC có xu hướng tăng hay giảm?\n",
      "assistant: None\n",
      "tool: 2025-06-22\n",
      "assistant: None\n",
      "tool: listings\n",
      "tool: YBC_quotes_2025_05_22__2025_06_22__1D\n",
      "assistant: None\n",
      "tool: {\n",
      "    \"data\": {\n",
      "        \"x\": [\"2025-05-23\", \"2025-05-26\", \"2025-05-28\", \"2025-06-02\", \"2025-06-03\", \"2025-06-09\", \"2025-06-12\", \"2025-06-16\", \"2025-06-17\"],\n",
      "        \"y\": [12.5, 12.5, 11.0, 10.2, 10.7, 10.7, 10.7, 10.7, 11.7],\n",
      "        \"type\": \"scatter\"\n",
      "    },\n",
      "    \"layout\": {\n",
      "        \"title\": \"Closing Prices from 2025-05-22 to 2025-06-22\",\n",
      "        \"xaxis\": {\n",
      "            \"title\": \"Date\"\n",
      "        },\n",
      "        \"yaxis\": {\n",
      "            \"title\": \"Closing Price\"\n",
      "        }\n",
      "    }\n",
      "}\n",
      "assistant: None\n",
      "tool: None\n",
      "**************************************************\n",
      "** Response: **\n",
      "assistant: Biểu đồ trên cho thấy xu hướng giá đóng cửa của cổ phiếu YBC trong khoảng thời gian từ ngày 22 tháng 5 năm 2025 đến ngày 22 tháng 6 năm 2025. \n",
      "\n",
      "- Giá cổ phiếu bắt đầu từ mức 12.5 vào ngày 23 tháng 5.\n",
      "- Sau đó, giá giảm xuống mức thấp nhất là 10.2 vào ngày 2 tháng 6.\n",
      "- Từ đó, giá có xu hướng tăng nhẹ và đạt mức 11.7 vào ngày 17 tháng 6.\n",
      "\n",
      "Nhìn chung, trong khoảng thời gian này, cổ phiếu YBC có xu hướng giảm từ đầu tháng nhưng đã có sự phục hồi nhẹ vào cuối tháng.\n",
      "**************************************************\n",
      "\n",
      "\n",
      "Step run_agent_step produced event AgentOutput\n",
      "Running step parse_agent_output\n",
      "Step parse_agent_output produced event StopEvent\n",
      "Biểu đồ trên cho thấy xu hướng giá đóng cửa của cổ phiếu YBC trong khoảng thời gian từ ngày 22 tháng 5 năm 2025 đến ngày 22 tháng 6 năm 2025. \n",
      "\n",
      "- Giá cổ phiếu bắt đầu từ mức 12.5 vào ngày 23 tháng 5.\n",
      "- Sau đó, giá giảm xuống mức thấp nhất là 10.2 vào ngày 2 tháng 6.\n",
      "- Từ đó, giá có xu hướng tăng nhẹ và đạt mức 11.7 vào ngày 17 tháng 6.\n",
      "\n",
      "Nhìn chung, trong khoảng thời gian này, cổ phiếu YBC có xu hướng giảm từ đầu tháng nhưng đã có sự phục hồi nhẹ vào cuối tháng.\n"
     ]
    }
   ],
   "source": [
    "response = await workflow.run(\n",
    "    \"Trong một tháng qua, cổ phiếu YBC có xu hướng tăng hay giảm?\",\n",
    ")\n",
    "\n",
    "print(str(response))"
   ]
  },
  {
   "cell_type": "code",
   "execution_count": null,
   "id": "1c755b06",
   "metadata": {},
   "outputs": [],
   "source": []
  }
 ],
 "metadata": {
  "kernelspec": {
   "display_name": "test-modal",
   "language": "python",
   "name": "python3"
  },
  "language_info": {
   "codemirror_mode": {
    "name": "ipython",
    "version": 3
   },
   "file_extension": ".py",
   "mimetype": "text/x-python",
   "name": "python",
   "nbconvert_exporter": "python",
   "pygments_lexer": "ipython3",
   "version": "3.12.11"
  }
 },
 "nbformat": 4,
 "nbformat_minor": 5
}
