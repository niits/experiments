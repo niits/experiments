{
 "cells": [
  {
   "cell_type": "code",
   "execution_count": null,
   "metadata": {},
   "outputs": [],
   "source": [
    "# ! pip install -e custom-diffusers/"
   ]
  },
  {
   "cell_type": "code",
   "execution_count": 1,
   "metadata": {},
   "outputs": [
    {
     "name": "stderr",
     "output_type": "stream",
     "text": [
      "/home/tran.duc.trungb/miniconda3/envs/triton-huggingface/lib/python3.10/site-packages/tqdm/auto.py:21: TqdmWarning: IProgress not found. Please update jupyter and ipywidgets. See https://ipywidgets.readthedocs.io/en/stable/user_install.html\n",
      "  from .autonotebook import tqdm as notebook_tqdm\n"
     ]
    }
   ],
   "source": [
    "from custom_diffusers import UNet2DConditionModel\n",
    "from diffusers import DiffusionPipeline\n",
    "from optimum.exporters.onnx import export\n",
    "from optimum.onnxruntime import ORTStableDiffusionPipeline\n",
    "from pathlib import Path\n",
    "import onnx\n",
    "import torch"
   ]
  },
  {
   "cell_type": "markdown",
   "metadata": {},
   "source": [
    "# Download model"
   ]
  },
  {
   "cell_type": "code",
   "execution_count": 2,
   "metadata": {},
   "outputs": [],
   "source": [
    "TORCH_DIR = Path(\"./exported-models/torch\")\n",
    "\n",
    "TORCH_DIR.mkdir(parents=True, exist_ok=True)\n",
    "\n",
    "\n",
    "ONNX_DIR = Path(\"./exported-models/onnx\")\n",
    "\n",
    "ONNX_DIR.mkdir(parents=True, exist_ok=True)"
   ]
  },
  {
   "cell_type": "code",
   "execution_count": 3,
   "metadata": {},
   "outputs": [],
   "source": [
    "MODEL_ID = \"runwayml/stable-diffusion-v1-5\"\n"
   ]
  },
  {
   "cell_type": "code",
   "execution_count": 4,
   "metadata": {},
   "outputs": [],
   "source": [
    "# pipe = pipe.to(\"cuda\")\n",
    "\n",
    "if not (TORCH_DIR / \"stable-diffusion-v1-5\").exists():\n",
    "    pipe = DiffusionPipeline.from_pretrained(\n",
    "        MODEL_ID,\n",
    "        torch_dtype=torch.float16,\n",
    "        use_safetensors=True,\n",
    "    )\n",
    "    pipe.save_pretrained(TORCH_DIR / \"stable-diffusion-v1-5\")"
   ]
  },
  {
   "cell_type": "markdown",
   "metadata": {},
   "source": [
    "# Export models to ONNX"
   ]
  },
  {
   "cell_type": "code",
   "execution_count": 5,
   "metadata": {},
   "outputs": [],
   "source": [
    "SAVE_PATH = ONNX_DIR / \"stable-diffusion-v1-5\"\n",
    "\n",
    "if not SAVE_PATH.exists():\n",
    "    try:\n",
    "\n",
    "        SAVE_PATH.mkdir(parents=True)\n",
    "        pipeline = ORTStableDiffusionPipeline.from_pretrained(MODEL_ID, export=True)\n",
    "        pipeline.save_pretrained(SAVE_PATH.as_posix())\n",
    "    except Exception as e:\n",
    "        print(e)\n",
    "        SAVE_PATH.rmdir()\n",
    "\n",
    "# else:\n",
    "#     pipeline = ORTStableDiffusionPipeline.from_pretrained(\n",
    "#         SAVE_PATH.as_posix(),\n",
    "#     )"
   ]
  },
  {
   "cell_type": "code",
   "execution_count": 6,
   "metadata": {},
   "outputs": [],
   "source": [
    "# prompt = \"sailing ship in storm by Leonardo da Vinci\"\n",
    "# image = pipeline(prompt, num_inference_steps=2).images[0]\n",
    "\n",
    "# pipeline.save_pretrained(\"./models/onnx/stable-diffusion-v1-5\")"
   ]
  },
  {
   "cell_type": "code",
   "execution_count": 7,
   "metadata": {},
   "outputs": [],
   "source": [
    "\n",
    "# pipe = DiffusionPipeline.from_pretrained(\n",
    "#     \"./torch-stable-diffusion-v1-5\",\n",
    "#     torch_dtype=torch.float16,\n",
    "#     use_safetensors=True,\n",
    "# )\n",
    "# pipe = pipe.to(\"cuda\")\n",
    "\n",
    "# prompt = \"a photo of an astronaut riding a horse on mars\"\n",
    "# image = pipe(prompt).images[0]\n",
    "\n"
   ]
  },
  {
   "cell_type": "code",
   "execution_count": 8,
   "metadata": {},
   "outputs": [
    {
     "name": "stdout",
     "output_type": "stream",
     "text": [
      "rm: cannot remove './exported-models/onnx/stable-diffusion-v1-5/unet/model.onnx_data': No such file or directory\n",
      "rm: cannot remove './exported-models/onnx/stable-diffusion-v1-5/unet/model.onnx': No such file or directory\n"
     ]
    }
   ],
   "source": [
    "! rm ./exported-models/onnx/stable-diffusion-v1-5/unet/model.onnx_data\n",
    "! rm ./exported-models/onnx/stable-diffusion-v1-5/unet/model.onnx"
   ]
  },
  {
   "cell_type": "markdown",
   "metadata": {},
   "source": [
    "# Export Unet"
   ]
  },
  {
   "cell_type": "code",
   "execution_count": 9,
   "metadata": {},
   "outputs": [],
   "source": [
    "unet = UNet2DConditionModel.from_pretrained(\"./exported-models/torch/stable-diffusion-v1-5/unet\")"
   ]
  },
  {
   "cell_type": "code",
   "execution_count": 10,
   "metadata": {},
   "outputs": [],
   "source": [
    "timesteps = torch.tensor([1, 2]).reshape(-1, 1).float()\n",
    "\n",
    "session\n",
    "prompt_embeds = torch.randn(2, 77, 768)\n",
    "\n",
    "_ = unet(timestep=timesteps, sample=latent_model_input, encoder_hidden_states=prompt_embeds)"
   ]
  },
  {
   "cell_type": "code",
   "execution_count": 11,
   "metadata": {},
   "outputs": [
    {
     "data": {
      "text/plain": [
       "tensor([[1.],\n",
       "        [2.]])"
      ]
     },
     "execution_count": 11,
     "metadata": {},
     "output_type": "execute_result"
    }
   ],
   "source": [
    "timesteps"
   ]
  },
  {
   "cell_type": "code",
   "execution_count": 12,
   "metadata": {},
   "outputs": [],
   "source": [
    "from custom_diffusers.config import UNetOnnxConfig"
   ]
  },
  {
   "cell_type": "code",
   "execution_count": 13,
   "metadata": {},
   "outputs": [],
   "source": [
    "onnx_config = UNetOnnxConfig(unet.config)"
   ]
  },
  {
   "cell_type": "code",
   "execution_count": 14,
   "metadata": {},
   "outputs": [
    {
     "name": "stderr",
     "output_type": "stream",
     "text": [
      "Using framework PyTorch: 2.3.0+cu121\n",
      "/home/tran.duc.trungb/triton/triton-playground/02.build_tensorrt_from_sd/custom-diffusers/src/custom_diffusers/unet_2d_condition.py:1228: TracerWarning: Converting a tensor to a Python boolean might cause the trace to be incorrect. We can't record the data flow of Python values, so this value will be treated as a constant in the future. This means that the trace might not generalize to other inputs!\n",
      "  if dim % default_overall_up_factor != 0:\n"
     ]
    },
    {
     "name": "stdout",
     "output_type": "stream",
     "text": [
      "[('sample', torch.Size([2, 4, 64, 64])), ('timestep', torch.Size([2, 1])), ('encoder_hidden_states', torch.Size([2, 16, 768]))]\n"
     ]
    },
    {
     "name": "stderr",
     "output_type": "stream",
     "text": [
      "/home/tran.duc.trungb/miniconda3/envs/triton-huggingface/lib/python3.10/site-packages/diffusers/models/downsampling.py:137: TracerWarning: Converting a tensor to a Python boolean might cause the trace to be incorrect. We can't record the data flow of Python values, so this value will be treated as a constant in the future. This means that the trace might not generalize to other inputs!\n",
      "  assert hidden_states.shape[1] == self.channels\n",
      "/home/tran.duc.trungb/miniconda3/envs/triton-huggingface/lib/python3.10/site-packages/diffusers/models/downsampling.py:146: TracerWarning: Converting a tensor to a Python boolean might cause the trace to be incorrect. We can't record the data flow of Python values, so this value will be treated as a constant in the future. This means that the trace might not generalize to other inputs!\n",
      "  assert hidden_states.shape[1] == self.channels\n",
      "/home/tran.duc.trungb/miniconda3/envs/triton-huggingface/lib/python3.10/site-packages/diffusers/models/upsampling.py:149: TracerWarning: Converting a tensor to a Python boolean might cause the trace to be incorrect. We can't record the data flow of Python values, so this value will be treated as a constant in the future. This means that the trace might not generalize to other inputs!\n",
      "  assert hidden_states.shape[1] == self.channels\n",
      "/home/tran.duc.trungb/miniconda3/envs/triton-huggingface/lib/python3.10/site-packages/diffusers/models/upsampling.py:165: TracerWarning: Converting a tensor to a Python boolean might cause the trace to be incorrect. We can't record the data flow of Python values, so this value will be treated as a constant in the future. This means that the trace might not generalize to other inputs!\n",
      "  if hidden_states.shape[0] >= 64:\n",
      "/home/tran.duc.trungb/triton/triton-playground/02.build_tensorrt_from_sd/custom-diffusers/src/custom_diffusers/unet_2d_condition.py:1461: TracerWarning: Converting a tensor to a Python boolean might cause the trace to be incorrect. We can't record the data flow of Python values, so this value will be treated as a constant in the future. This means that the trace might not generalize to other inputs!\n",
      "  if not return_dict:\n",
      "Saving external data to one file...\n"
     ]
    }
   ],
   "source": [
    "onnx_path = Path(\"./exported-models/onnx/stable-diffusion-v1-5/unet/model.onnx\")\n",
    "\n",
    "onnx_inputs, onnx_outputs = export(unet, onnx_config, onnx_path, onnx_config.DEFAULT_ONNX_OPSET)"
   ]
  },
  {
   "cell_type": "code",
   "execution_count": 15,
   "metadata": {},
   "outputs": [],
   "source": [
    "onnx.checker.check_model(onnx_path.as_posix())"
   ]
  },
  {
   "cell_type": "code",
   "execution_count": 16,
   "metadata": {},
   "outputs": [
    {
     "name": "stderr",
     "output_type": "stream",
     "text": [
      "\n",
      "Validating ONNX model exported-models/onnx/stable-diffusion-v1-5/unet/model.onnx...\n"
     ]
    },
    {
     "name": "stdout",
     "output_type": "stream",
     "text": [
      "[('sample', torch.Size([2, 4, 64, 64])), ('timestep', torch.Size([2, 1])), ('encoder_hidden_states', torch.Size([2, 16, 768]))]\n"
     ]
    },
    {
     "name": "stderr",
     "output_type": "stream",
     "text": [
      "\t-[✓] ONNX model output names match reference model (sample)\n",
      "\t- Validating ONNX Model output \"sample\":\n",
      "\t\t-[✓] (2, 4, 64, 64) matches (2, 4, 64, 64)\n",
      "\t\t-[✓] all values close (atol: 0.001)\n"
     ]
    }
   ],
   "source": [
    "from optimum.exporters.onnx import validate_model_outputs\n",
    "\n",
    "validate_model_outputs(\n",
    "    onnx_config, unet, onnx_path, onnx_outputs, onnx_config.ATOL_FOR_VALIDATION\n",
    ")"
   ]
  },
  {
   "cell_type": "code",
   "execution_count": 3,
   "metadata": {},
   "outputs": [],
   "source": [
    "import onnxruntime as ort\n",
    "import numpy as np"
   ]
  },
  {
   "cell_type": "code",
   "execution_count": 6,
   "metadata": {},
   "outputs": [],
   "source": [
    "session = ort.InferenceSession(\"./exported-models/onnx/stable-diffusion-v1-5/vae_decoder/model.onnx\", providers=['CPUExecutionProvider'])"
   ]
  },
  {
   "cell_type": "code",
   "execution_count": null,
   "metadata": {},
   "outputs": [],
   "source": []
  },
  {
   "cell_type": "code",
   "execution_count": 7,
   "metadata": {},
   "outputs": [
    {
     "data": {
      "text/plain": [
       "[('latent_sample',\n",
       "  ['batch_size', 'num_channels_latent', 'height_latent', 'width_latent'],\n",
       "  'tensor(float)')]"
      ]
     },
     "execution_count": 7,
     "metadata": {},
     "output_type": "execute_result"
    }
   ],
   "source": [
    "[\n",
    "    (i.name, i.shape, i.type) for i in session.get_inputs()\n",
    "]"
   ]
  },
  {
   "cell_type": "code",
   "execution_count": 9,
   "metadata": {},
   "outputs": [
    {
     "data": {
      "text/plain": [
       "[array([[[[ 3.85431945e-02,  8.64201039e-02,  9.67937335e-02, ...,\n",
       "           -1.87966272e-01, -1.50687888e-01, -1.55924737e-01],\n",
       "          [ 1.27990425e-01,  3.53805423e-02,  1.13523044e-01, ...,\n",
       "           -1.79075912e-01, -1.28286734e-01, -1.77031934e-01],\n",
       "          [ 7.17154741e-02,  1.01871401e-01,  7.33885840e-02, ...,\n",
       "           -1.70409411e-01, -1.71882093e-01, -9.87272486e-02],\n",
       "          ...,\n",
       "          [ 9.36509445e-02,  1.26088843e-01,  3.58436722e-03, ...,\n",
       "           -1.21429078e-01, -1.07200846e-01, -1.04507521e-01],\n",
       "          [ 1.10540688e-01,  8.56413767e-02,  1.27397954e-01, ...,\n",
       "           -1.43811285e-01, -1.33000195e-01, -6.96410239e-02],\n",
       "          [ 1.92620531e-01,  2.74241455e-02,  6.12018891e-02, ...,\n",
       "           -1.88904852e-01, -2.25699604e-01, -2.72514045e-01]],\n",
       " \n",
       "         [[-3.01134009e-02,  1.47573836e-02,  4.02610153e-02, ...,\n",
       "           -2.94286668e-01, -2.99780726e-01, -2.95068383e-01],\n",
       "          [ 2.40223259e-02, -8.12322125e-02, -3.14687006e-03, ...,\n",
       "           -3.00408840e-01, -2.90000767e-01, -3.37511063e-01],\n",
       "          [-3.23411338e-02,  1.70041323e-02, -1.16102099e-02, ...,\n",
       "           -2.82608509e-01, -3.03524196e-01, -2.52942741e-01],\n",
       "          ...,\n",
       "          [ 1.36722662e-02,  3.48472968e-02, -5.45804761e-02, ...,\n",
       "           -2.63508409e-01, -2.70595968e-01, -3.19482893e-01],\n",
       "          [ 3.38722691e-02,  8.66711140e-03,  5.14084846e-02, ...,\n",
       "           -3.16512764e-01, -2.96472222e-01, -2.91399032e-01],\n",
       "          [ 1.08779259e-01, -7.30813667e-02, -3.63426544e-02, ...,\n",
       "           -3.23844254e-01, -3.70237827e-01, -4.73116785e-01]],\n",
       " \n",
       "         [[-1.45168334e-01, -1.03083566e-01, -5.73903136e-02, ...,\n",
       "           -4.67165112e-01, -4.49095666e-01, -4.82838869e-01],\n",
       "          [-7.62912184e-02, -1.09481663e-01, -4.38967124e-02, ...,\n",
       "           -4.06616628e-01, -3.72655332e-01, -4.59412098e-01],\n",
       "          [-9.93838608e-02, -5.08726686e-02, -8.31019953e-02, ...,\n",
       "           -4.17869896e-01, -4.03261393e-01, -4.11810160e-01],\n",
       "          ...,\n",
       "          [-8.34112093e-02, -4.04844284e-02, -1.21650144e-01, ...,\n",
       "           -4.19077754e-01, -3.56034875e-01, -4.13571149e-01],\n",
       "          [-6.55733719e-02, -7.16746151e-02, -3.06408741e-02, ...,\n",
       "           -4.36025500e-01, -4.03143406e-01, -4.08095658e-01],\n",
       "          [ 8.44018534e-03, -1.29422143e-01, -1.07888252e-01, ...,\n",
       "           -4.25914526e-01, -4.73972380e-01, -6.60675764e-01]]],\n",
       " \n",
       " \n",
       "        [[[-5.16587086e-02, -6.35664091e-02,  1.38620585e-02, ...,\n",
       "           -1.10211968e-01, -5.87462708e-02, -2.14014091e-02],\n",
       "          [-2.23094337e-02, -6.69054613e-02, -3.67721468e-02, ...,\n",
       "           -4.87302169e-02, -1.11683838e-01, -2.79506594e-02],\n",
       "          [-3.71404625e-02, -2.93606222e-02, -4.90028374e-02, ...,\n",
       "           -1.36410072e-01, -1.31516442e-01, -1.08703814e-01],\n",
       "          ...,\n",
       "          [ 1.04678549e-01,  6.32678717e-02,  6.60049766e-02, ...,\n",
       "           -8.82701799e-02, -6.58281669e-02, -8.06870013e-02],\n",
       "          [ 1.22056983e-01,  1.00849152e-01,  4.99906577e-02, ...,\n",
       "           -9.68518928e-02, -7.06461295e-02, -2.44915523e-02],\n",
       "          [ 9.30855349e-02,  7.54014626e-02,  6.89895675e-02, ...,\n",
       "           -1.34557277e-01, -1.22527190e-01, -1.17172912e-01]],\n",
       " \n",
       "         [[-1.17462374e-01, -1.33431137e-01, -7.51038790e-02, ...,\n",
       "           -2.48129547e-01, -2.37283498e-01, -2.13151693e-01],\n",
       "          [-1.10859819e-01, -1.75578445e-01, -1.36503309e-01, ...,\n",
       "           -2.24671662e-01, -2.76820570e-01, -2.40650892e-01],\n",
       "          [-1.30815446e-01, -1.47047758e-01, -1.45549685e-01, ...,\n",
       "           -2.80257553e-01, -2.82517284e-01, -2.69086957e-01],\n",
       "          ...,\n",
       "          [ 2.59576701e-02, -2.43459791e-02,  9.29666683e-03, ...,\n",
       "           -2.36065865e-01, -2.28124678e-01, -2.69372582e-01],\n",
       "          [ 7.53174722e-02,  2.01353244e-02, -2.44568810e-02, ...,\n",
       "           -2.70864636e-01, -2.26580828e-01, -2.29630888e-01],\n",
       "          [ 1.24208741e-02, -9.78495553e-03, -2.10839882e-02, ...,\n",
       "           -2.73596168e-01, -2.95564622e-01, -2.99813420e-01]],\n",
       " \n",
       "         [[-1.85411572e-01, -2.22620949e-01, -1.37574464e-01, ...,\n",
       "           -4.07379717e-01, -3.79160583e-01, -4.02628154e-01],\n",
       "          [-1.79092959e-01, -2.16868103e-01, -1.91037267e-01, ...,\n",
       "           -3.42723370e-01, -3.41288418e-01, -3.79612505e-01],\n",
       "          [-2.04280540e-01, -1.93955272e-01, -1.97619736e-01, ...,\n",
       "           -4.08125281e-01, -3.74895990e-01, -4.11580145e-01],\n",
       "          ...,\n",
       "          [-3.93186733e-02, -7.26550668e-02, -5.45133390e-02, ...,\n",
       "           -3.79169911e-01, -3.20338309e-01, -3.76777023e-01],\n",
       "          [-2.82329973e-02, -2.88719293e-02, -1.06655180e-01, ...,\n",
       "           -4.01138097e-01, -3.51797551e-01, -3.55677217e-01],\n",
       "          [-4.09826599e-02, -6.92918748e-02, -7.85181671e-02, ...,\n",
       "           -3.76391679e-01, -4.01432455e-01, -4.78539646e-01]]],\n",
       " \n",
       " \n",
       "        [[[-2.82105774e-01, -2.70617813e-01, -1.83660209e-01, ...,\n",
       "            1.85890310e-03,  9.09850895e-02, -2.83207148e-01],\n",
       "          [-2.16549471e-01, -2.08244666e-01, -2.31927246e-01, ...,\n",
       "            3.37265097e-02,  4.38439194e-03,  1.88363120e-01],\n",
       "          [-1.54325262e-01, -2.45424241e-01, -2.26648033e-01, ...,\n",
       "           -3.96561846e-02,  3.36962342e-02, -4.19292226e-02],\n",
       "          ...,\n",
       "          [-1.10543095e-01, -6.47614077e-02, -1.33247823e-01, ...,\n",
       "           -1.13295943e-01, -2.60815620e-02, -8.21071640e-02],\n",
       "          [-1.17714681e-01, -5.87868541e-02, -1.21260010e-01, ...,\n",
       "           -5.24635725e-02, -6.31288439e-02,  1.16397450e-02],\n",
       "          [-5.24433106e-02, -1.42777294e-01, -1.40290409e-01, ...,\n",
       "           -1.09202065e-01, -6.33582100e-02, -1.36876836e-01]],\n",
       " \n",
       "         [[-3.54155719e-01, -3.26304078e-01, -2.69856900e-01, ...,\n",
       "           -8.66262838e-02, -4.08044457e-03, -4.18956280e-01],\n",
       "          [-2.96717614e-01, -3.26647967e-01, -3.38196635e-01, ...,\n",
       "           -9.54084173e-02, -7.59516507e-02,  1.53502017e-01],\n",
       "          [-2.17558295e-01, -3.75803918e-01, -3.17245275e-01, ...,\n",
       "           -9.23080668e-02, -5.59177920e-02, -8.94674286e-02],\n",
       "          ...,\n",
       "          [-2.89416075e-01, -2.40686208e-01, -2.81678677e-01, ...,\n",
       "           -2.63752759e-01, -2.19625324e-01, -2.77991802e-01],\n",
       "          [-2.83524007e-01, -2.51041770e-01, -2.66859442e-01, ...,\n",
       "           -2.51324028e-01, -2.42432564e-01, -2.06464350e-01],\n",
       "          [-2.47853190e-01, -3.37875009e-01, -3.16929817e-01, ...,\n",
       "           -2.48892725e-01, -2.45105237e-01, -3.24068636e-01]],\n",
       " \n",
       "         [[-4.80815053e-01, -4.61710960e-01, -3.85659814e-01, ...,\n",
       "           -1.71494395e-01, -4.79153767e-02, -5.62501967e-01],\n",
       "          [-4.44796413e-01, -4.21610445e-01, -4.21058506e-01, ...,\n",
       "           -1.40774891e-01, -1.22118816e-01,  5.46572618e-02],\n",
       "          [-3.89198482e-01, -4.47678059e-01, -4.12855417e-01, ...,\n",
       "           -1.84060484e-01, -1.15726084e-01, -1.97687507e-01],\n",
       "          ...,\n",
       "          [-4.32979017e-01, -3.72965783e-01, -4.05084282e-01, ...,\n",
       "           -4.05881912e-01, -3.15469265e-01, -4.26515192e-01],\n",
       "          [-4.76381928e-01, -3.87820303e-01, -4.10229504e-01, ...,\n",
       "           -3.83296460e-01, -3.59458417e-01, -3.77813995e-01],\n",
       "          [-3.91913205e-01, -4.68234152e-01, -4.56504315e-01, ...,\n",
       "           -3.92285198e-01, -4.02773976e-01, -5.55478394e-01]]],\n",
       " \n",
       " \n",
       "        ...,\n",
       " \n",
       " \n",
       "        [[[-7.29873106e-02, -4.75306548e-02, -3.03792208e-02, ...,\n",
       "            4.17755134e-02,  2.38847315e-01, -4.43049401e-01],\n",
       "          [-2.08745264e-02, -4.49515060e-02, -5.98590374e-02, ...,\n",
       "            1.63144648e-01,  8.84984583e-02,  2.88054615e-01],\n",
       "          [-2.49838568e-02, -2.86475532e-02, -5.01634255e-02, ...,\n",
       "            1.11047961e-01,  1.36386678e-01,  1.12760313e-01],\n",
       "          ...,\n",
       "          [ 8.02593157e-02,  6.23910055e-02,  5.28340638e-02, ...,\n",
       "            4.82771359e-02,  6.73365444e-02,  3.61826606e-02],\n",
       "          [ 1.24630965e-01,  6.33199364e-02,  9.10800770e-02, ...,\n",
       "            6.74957111e-02,  6.44356608e-02,  9.10544470e-02],\n",
       "          [ 4.43782993e-02,  6.14582896e-02,  7.19708726e-02, ...,\n",
       "           -4.65609785e-03, -1.96261704e-02,  1.77291557e-02]],\n",
       " \n",
       "         [[-1.38642848e-01, -1.07754417e-01, -1.12106048e-01, ...,\n",
       "            1.74349993e-02,  2.57863283e-01, -4.11639243e-01],\n",
       "          [-1.14191912e-01, -1.51032403e-01, -1.53966665e-01, ...,\n",
       "            6.14309609e-02,  4.86822799e-02,  3.11708003e-01],\n",
       "          [-1.10677071e-01, -1.43494979e-01, -1.22882925e-01, ...,\n",
       "            5.39843142e-02,  8.31928328e-02,  7.23351464e-02],\n",
       "          ...,\n",
       "          [-1.26674399e-02, -4.45499122e-02, -6.10678233e-02, ...,\n",
       "           -1.19231708e-01, -1.34174377e-01, -1.55617654e-01],\n",
       "          [ 3.54695693e-02, -3.26794051e-02,  7.68598169e-03, ...,\n",
       "           -1.15721934e-01, -1.31085068e-01, -1.54016703e-01],\n",
       "          [-4.50766422e-02, -3.72821316e-02, -2.87653189e-02, ...,\n",
       "           -1.45628721e-01, -2.05952644e-01, -1.92082971e-01]],\n",
       " \n",
       "         [[-2.37331823e-01, -2.27772370e-01, -2.06663325e-01, ...,\n",
       "           -4.84487861e-02,  2.14811847e-01, -5.22926211e-01],\n",
       "          [-2.19903395e-01, -2.08055511e-01, -2.11516351e-01, ...,\n",
       "            3.95556130e-02,  3.06183882e-02,  1.84861600e-01],\n",
       "          [-2.01149136e-01, -2.02218726e-01, -2.11901039e-01, ...,\n",
       "           -9.08298045e-03,  4.88345139e-02, -2.97922753e-02],\n",
       "          ...,\n",
       "          [-1.18772194e-01, -1.02750078e-01, -1.18025169e-01, ...,\n",
       "           -2.57884681e-01, -2.10784987e-01, -2.50290394e-01],\n",
       "          [-6.03495464e-02, -9.50618684e-02, -1.09659478e-01, ...,\n",
       "           -2.49577001e-01, -2.33828694e-01, -2.66781509e-01],\n",
       "          [-1.35009050e-01, -1.17901459e-01, -1.10380560e-01, ...,\n",
       "           -2.73811311e-01, -3.22648942e-01, -3.70016783e-01]]],\n",
       " \n",
       " \n",
       "        [[[-8.37511867e-02, -6.02269545e-02, -4.51993644e-02, ...,\n",
       "           -5.84331341e-04,  3.45339850e-02,  1.84091315e-01],\n",
       "          [ 2.18911748e-03, -9.08229724e-02, -4.53633144e-02, ...,\n",
       "            2.77268253e-02, -1.21490611e-02,  2.40337551e-02],\n",
       "          [-4.14871350e-02, -5.93691170e-02, -5.86176515e-02, ...,\n",
       "            1.82812698e-02,  3.20412144e-02,  2.74891891e-02],\n",
       "          ...,\n",
       "          [-2.67078206e-02,  1.73113625e-02, -6.04149401e-02, ...,\n",
       "           -1.98612303e-01, -7.62512833e-02, -1.52757302e-01],\n",
       "          [-5.85404318e-03,  3.40578370e-02, -3.31838652e-02, ...,\n",
       "           -9.76624116e-02, -1.62727088e-01,  1.00209424e-02],\n",
       "          [ 3.02628148e-03, -3.74631137e-02, -5.51244840e-02, ...,\n",
       "           -1.74139261e-01, -1.51163563e-01, -2.81428844e-01]],\n",
       " \n",
       "         [[-1.73895180e-01, -1.49720654e-01, -1.49921820e-01, ...,\n",
       "           -9.83150452e-02, -8.60580206e-02,  1.60232112e-02],\n",
       "          [-9.65070948e-02, -2.22169369e-01, -1.65511429e-01, ...,\n",
       "           -1.36016995e-01, -2.20217317e-01, -2.53502607e-01],\n",
       "          [-1.26172751e-01, -1.82577610e-01, -1.59065574e-01, ...,\n",
       "           -1.30805135e-01, -1.63758814e-01, -1.76115423e-01],\n",
       "          ...,\n",
       "          [-1.68280482e-01, -1.37488306e-01, -1.84605688e-01, ...,\n",
       "           -3.30950916e-01, -2.75431484e-01, -3.34213823e-01],\n",
       "          [-1.23248033e-01, -1.30708605e-01, -1.61201656e-01, ...,\n",
       "           -3.00489902e-01, -3.06610584e-01, -2.19365507e-01],\n",
       "          [-1.36354536e-01, -1.90275162e-01, -1.91398084e-01, ...,\n",
       "           -2.93914080e-01, -3.46338570e-01, -4.66934085e-01]],\n",
       " \n",
       "         [[-3.05641860e-01, -2.88861513e-01, -2.57054299e-01, ...,\n",
       "           -2.78581649e-01, -2.57764846e-01, -2.32657552e-01],\n",
       "          [-2.30864301e-01, -2.72882581e-01, -2.48314753e-01, ...,\n",
       "           -2.34824508e-01, -2.74913967e-01, -3.86231273e-01],\n",
       "          [-2.54998863e-01, -2.48841420e-01, -2.39866421e-01, ...,\n",
       "           -2.77731657e-01, -2.58679837e-01, -3.11773717e-01],\n",
       "          ...,\n",
       "          [-3.20881069e-01, -2.64898509e-01, -2.91091383e-01, ...,\n",
       "           -4.60773200e-01, -3.32252473e-01, -4.11596626e-01],\n",
       "          [-3.19753349e-01, -2.57031381e-01, -2.95875400e-01, ...,\n",
       "           -3.97366822e-01, -4.05425608e-01, -3.48283350e-01],\n",
       "          [-2.87204176e-01, -3.44644666e-01, -3.37425053e-01, ...,\n",
       "           -4.22695965e-01, -4.57562119e-01, -6.60385489e-01]]],\n",
       " \n",
       " \n",
       "        [[[-9.03520267e-03,  3.98299620e-02,  8.17135721e-02, ...,\n",
       "           -3.25431764e-01, -3.22332472e-01, -3.23929071e-01],\n",
       "          [ 8.15385431e-02,  4.68059145e-02,  2.84325965e-02, ...,\n",
       "           -3.15011859e-01, -2.52025694e-01, -1.79861903e-01],\n",
       "          [ 5.63868601e-03,  3.44900861e-02,  4.84279767e-02, ...,\n",
       "           -2.53893614e-01, -3.34196061e-01, -2.67875016e-01],\n",
       "          ...,\n",
       "          [ 1.36639327e-01,  9.50379744e-02,  9.49418321e-02, ...,\n",
       "           -5.17489500e-02, -4.11759689e-02, -8.33515357e-03],\n",
       "          [ 1.14032246e-01,  1.74513623e-01,  8.50941166e-02, ...,\n",
       "           -1.70854628e-02, -5.49630895e-02,  1.67298615e-02],\n",
       "          [ 2.02961817e-01,  1.07722804e-01,  1.03053696e-01, ...,\n",
       "           -9.71884206e-02, -5.45036867e-02, -1.98233142e-01]],\n",
       " \n",
       "         [[-1.08039960e-01, -5.44096604e-02, -2.67117955e-02, ...,\n",
       "           -4.69479859e-01, -5.00010371e-01, -5.42631865e-01],\n",
       "          [-3.67731452e-02, -7.51608163e-02, -7.93686658e-02, ...,\n",
       "           -4.58226562e-01, -4.31376636e-01, -3.92732322e-01],\n",
       "          [-9.62322503e-02, -1.17301390e-01, -6.99464977e-02, ...,\n",
       "           -3.95537913e-01, -5.00051260e-01, -4.60668802e-01],\n",
       "          ...,\n",
       "          [-1.73951220e-02, -6.62349164e-02, -5.56805581e-02, ...,\n",
       "           -1.86825901e-01, -1.95962787e-01, -1.78796053e-01],\n",
       "          [-4.06183042e-02, -8.18252005e-03, -7.72541240e-02, ...,\n",
       "           -1.92896158e-01, -2.08250195e-01, -1.76001877e-01],\n",
       "          [ 1.11526921e-02, -8.10872987e-02, -8.45307559e-02, ...,\n",
       "           -2.33795792e-01, -2.21225470e-01, -3.62616092e-01]],\n",
       " \n",
       "         [[-2.31093034e-01, -1.84472740e-01, -1.37121931e-01, ...,\n",
       "           -7.05052197e-01, -7.06015229e-01, -7.66289473e-01],\n",
       "          [-1.72823399e-01, -1.64942876e-01, -1.52674213e-01, ...,\n",
       "           -6.02561951e-01, -5.69031894e-01, -6.13625467e-01],\n",
       "          [-2.17804208e-01, -1.82882160e-01, -1.47085607e-01, ...,\n",
       "           -5.54426491e-01, -5.96274376e-01, -6.84411287e-01],\n",
       "          ...,\n",
       "          [-1.58615053e-01, -1.83435380e-01, -1.51131451e-01, ...,\n",
       "           -3.08198839e-01, -2.87391245e-01, -2.91471392e-01],\n",
       "          [-2.21861631e-01, -1.13909304e-01, -2.13084087e-01, ...,\n",
       "           -3.06234598e-01, -3.05484682e-01, -3.14683378e-01],\n",
       "          [-1.30552769e-01, -2.12495103e-01, -2.02291146e-01, ...,\n",
       "           -3.54724407e-01, -3.47988755e-01, -5.81221640e-01]]]],\n",
       "       dtype=float32)]"
      ]
     },
     "execution_count": 9,
     "metadata": {},
     "output_type": "execute_result"
    }
   ],
   "source": [
    "session.run(\n",
    "    None,\n",
    "    {\n",
    "        \"latent_sample\": np.random.randn(8, 4, 64, 64).astype(np.float32),\n",
    "    }\n",
    ")"
   ]
  }
 ],
 "metadata": {
  "kernelspec": {
   "display_name": "triton-huggingface",
   "language": "python",
   "name": "python3"
  },
  "language_info": {
   "codemirror_mode": {
    "name": "ipython",
    "version": 3
   },
   "file_extension": ".py",
   "mimetype": "text/x-python",
   "name": "python",
   "nbconvert_exporter": "python",
   "pygments_lexer": "ipython3",
   "version": "3.10.12"
  }
 },
 "nbformat": 4,
 "nbformat_minor": 2
}
