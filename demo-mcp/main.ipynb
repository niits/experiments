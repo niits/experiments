{
 "cells": [
  {
   "cell_type": "code",
   "execution_count": null,
   "id": "9f452e56",
   "metadata": {},
   "outputs": [],
   "source": [
    "! pip install llama-index-tools-mcp llama-index python-dotenv llama-index-tools-wikipedia fastmcp -q\n"
   ]
  },
  {
   "cell_type": "code",
   "execution_count": null,
   "id": "b467b754",
   "metadata": {},
   "outputs": [],
   "source": [
    "from fastmcp import Client\n",
    "from fastmcp.client import SSETransport"
   ]
  },
  {
   "cell_type": "code",
   "execution_count": 14,
   "id": "418076bb",
   "metadata": {},
   "outputs": [
    {
     "data": {
      "text/plain": [
       "[Tool(name='create_hero_heroes__post', description='Create Hero\\n\\n### Responses:\\n\\n**200**: Successful Response (Success Response)\\nContent-Type: application/json\\n\\n**Example Response:**\\n```json\\n{\\n  \"name\": \"Name\"\\n}\\n```', inputSchema={'type': 'object', 'properties': {'id': {'anyOf': [{'type': 'integer'}, {'type': 'null'}], 'title': 'id', 'type': 'integer'}, 'name': {'type': 'string', 'title': 'name', 'description': 'Name of the hero'}, 'real_name': {'anyOf': [{'type': 'string'}, {'type': 'null'}], 'title': 'real_name', 'description': 'Real name of the hero', 'type': 'string'}, 'origin': {'anyOf': [{'type': 'string'}, {'type': 'null'}], 'title': 'origin', 'description': 'Place of origin', 'type': 'string'}, 'superpowers': {'anyOf': [{'type': 'string'}, {'type': 'null'}], 'title': 'superpowers', 'description': 'Comma-separated list of superpowers', 'type': 'string'}, 'team': {'anyOf': [{'type': 'string'}, {'type': 'null'}], 'title': 'team', 'description': 'Team or organization affiliation', 'type': 'string'}, 'first_appearance': {'anyOf': [{'type': 'string'}, {'type': 'null'}], 'title': 'first_appearance', 'description': 'First appearance (comic, year, etc.)', 'type': 'string'}, 'biography': {'anyOf': [{'type': 'string'}, {'type': 'null'}], 'title': 'biography', 'description': 'Short biography or summary', 'type': 'string'}, 'dob': {'anyOf': [{'type': 'string', 'format': 'date'}, {'type': 'null'}], 'title': 'dob', 'description': 'Date of birth', 'type': 'string'}}, 'title': 'create_hero_heroes__postArguments', 'required': ['name']}, annotations=None),\n",
       " Tool(name='list_heroes_heroes__get', description='List Heroes\\n\\nPaginated list of heroes, max 100 per page, to avoid overloading the server\\n\\n### Responses:\\n\\n**200**: Successful Response (Success Response)\\nContent-Type: application/json\\n\\n**Example Response:**\\n```json\\n{\\n  \"total\": 1,\\n  \"offset\": 1,\\n  \"limit\": 1,\\n  \"count\": 1,\\n  \"results\": [\\n    {\\n      \"name\": \"Name\"\\n    }\\n  ]\\n}\\n```', inputSchema={'type': 'object', 'properties': {'name': {'anyOf': [{'type': 'string', 'minLength': 3}, {'type': 'null'}], 'description': 'Keyword to search in name', 'title': 'name', 'type': 'string'}, 'secret_name': {'anyOf': [{'type': 'string', 'minLength': 3}, {'type': 'null'}], 'description': 'Keyword to search in secret_name', 'title': 'secret_name', 'type': 'string'}, 'offset': {'type': 'integer', 'default': 0, 'title': 'offset'}, 'limit': {'type': 'integer', 'maximum': 100, 'default': 100, 'title': 'limit'}}, 'title': 'list_heroes_heroes__getArguments'}, annotations=None),\n",
       " Tool(name='read_hero_heroes__hero_id__get', description='Read Hero\\n\\nGet hero by ID\\n\\n### Responses:\\n\\n**200**: Successful Response (Success Response)\\nContent-Type: application/json\\n\\n**Example Response:**\\n```json\\n{\\n  \"name\": \"Name\"\\n}\\n```', inputSchema={'type': 'object', 'properties': {'hero_id': {'type': 'integer', 'title': 'hero_id'}}, 'title': 'read_hero_heroes__hero_id__getArguments', 'required': ['hero_id']}, annotations=None),\n",
       " Tool(name='delete_hero_heroes__hero_id__delete', description='Delete Hero\\n\\nDelete hero by ID\\n\\n### Responses:\\n\\n**200**: Successful Response (Success Response)\\nContent-Type: application/json', inputSchema={'type': 'object', 'properties': {'hero_id': {'type': 'integer', 'title': 'hero_id'}}, 'title': 'delete_hero_heroes__hero_id__deleteArguments', 'required': ['hero_id']}, annotations=None)]"
      ]
     },
     "execution_count": 14,
     "metadata": {},
     "output_type": "execute_result"
    }
   ],
   "source": [
    "async with Client(SSETransport(\"http://localhost:8000/sse\")) as client:\n",
    "    tools = await client.list_tools()\n",
    "tools"
   ]
  },
  {
   "cell_type": "markdown",
   "id": "89dee8d2",
   "metadata": {},
   "source": [
    "# Create agents"
   ]
  },
  {
   "cell_type": "code",
   "execution_count": 16,
   "id": "e7bfe320",
   "metadata": {},
   "outputs": [],
   "source": [
    "from llama_index.llms.openai import OpenAI\n",
    "from dotenv import load_dotenv\n",
    "from llama_index.tools.mcp import BasicMCPClient, McpToolSpec\n",
    "from llama_index.tools.wikipedia import WikipediaToolSpec\n",
    "from llama_index.core.agent.workflow import FunctionAgent\n",
    "from llama_index.core.workflow import Context\n"
   ]
  },
  {
   "cell_type": "code",
   "execution_count": 17,
   "id": "7d675433",
   "metadata": {},
   "outputs": [],
   "source": [
    "load_dotenv()\n",
    "\n",
    "llm = OpenAI(model=\"gpt-4o-mini\")"
   ]
  },
  {
   "cell_type": "markdown",
   "id": "3c441fb8",
   "metadata": {},
   "source": [
    "## Search information from Wikipedia and save it to API Server"
   ]
  },
  {
   "cell_type": "code",
   "execution_count": 18,
   "id": "d098ec02",
   "metadata": {},
   "outputs": [
    {
     "data": {
      "text/plain": [
       "[<llama_index.core.tools.function_tool.FunctionTool at 0x7f3abd107b30>,\n",
       " <llama_index.core.tools.function_tool.FunctionTool at 0x7f3abc386180>,\n",
       " <llama_index.core.tools.function_tool.FunctionTool at 0x7f3abc461760>,\n",
       " <llama_index.core.tools.function_tool.FunctionTool at 0x7f3abfb022d0>]"
      ]
     },
     "execution_count": 18,
     "metadata": {},
     "output_type": "execute_result"
    }
   ],
   "source": [
    "hero_mcp_client = BasicMCPClient(\"http://localhost:8000/sse\")\n",
    "\n",
    "hero_mcp_tool_spec = McpToolSpec(\n",
    "    client=hero_mcp_client,\n",
    ")\n",
    "\n",
    "hero_tools = await hero_mcp_tool_spec.to_tool_list_async()\n",
    "hero_tools"
   ]
  },
  {
   "cell_type": "code",
   "execution_count": 19,
   "id": "23892eb6",
   "metadata": {},
   "outputs": [
    {
     "data": {
      "text/plain": [
       "[<llama_index.core.tools.function_tool.FunctionTool at 0x7f3ab79248c0>,\n",
       " <llama_index.core.tools.function_tool.FunctionTool at 0x7f3ab7800140>]"
      ]
     },
     "execution_count": 19,
     "metadata": {},
     "output_type": "execute_result"
    }
   ],
   "source": [
    "helper_mcp_client = BasicMCPClient(\"http://localhost:8001/sse\")\n",
    "\n",
    "helper_mcp_tool_spec = McpToolSpec(\n",
    "    client=helper_mcp_client,\n",
    ")\n",
    "\n",
    "helper_tools = await helper_mcp_tool_spec.to_tool_list_async()\n",
    "helper_tools"
   ]
  },
  {
   "cell_type": "code",
   "execution_count": 20,
   "id": "e4abb498",
   "metadata": {},
   "outputs": [],
   "source": [
    "wiki_tool_spec = WikipediaToolSpec()\n",
    "wiki_tools = wiki_tool_spec.to_tool_list()"
   ]
  },
  {
   "cell_type": "code",
   "execution_count": 21,
   "id": "c86a018c",
   "metadata": {},
   "outputs": [],
   "source": [
    "collector_agent = FunctionAgent(\n",
    "    tools=[\n",
    "        *hero_tools,\n",
    "        *wiki_tools,\n",
    "        *helper_tools\n",
    "    ],\n",
    "    llm=llm,\n",
    "    system_prompt=\"You are a helpful collector agent. You can use the tools to collect information from the Wikipedia and save it to the MCP server. You can also use the MCP server to get information from the tools. You can use the tools to collect information from the Wikipedia and save it to the MCP server. You can also use the MCP server to get information and use it to answer the user's question. If you use add for date comparison, you should use defined tools. If you don't know the answer and can not find it, say 'I don't know'.\",\n",
    ")\n",
    "\n",
    "ctx = Context(collector_agent)  # type: ignore"
   ]
  },
  {
   "cell_type": "code",
   "execution_count": 27,
   "id": "7895e813",
   "metadata": {},
   "outputs": [
    {
     "name": "stdout",
     "output_type": "stream",
     "text": [
      "Response:\n",
      "I have successfully saved all information about the hero **Superman** to the MCP server. Here are the details:\n",
      "\n",
      "- **Name:** Superman\n",
      "- **Real Name:** Kal-El\n",
      "- **Origin:** Krypton\n",
      "- **Team:** Justice League\n",
      "- **First Appearance:** Action Comics #1, 1938\n",
      "- **Superpowers:** Superhuman strength, invulnerability, flight, heat vision, x-ray vision, super speed, super breath\n",
      "- **Biography:** Superman is a superhero created by writer Jerry Siegel and artist Joe Shuster, first appearing in the comic book Action Comics #1, published in America on April 18, 1938. Superman has been regularly published in American comic books since 1938, and has been adapted to other media including radio serials, novels, films, television shows, theater, and video games. Superman was born Kal-El, on the fictional planet Krypton. As a baby, his parents Jor-El and Lara sent him to Earth in a small spaceship shortly before Krypton was destroyed in a natural cataclysm. His ship landed in the American countryside near the fictional town of Smallville, Kansas. He was found and adopted by farmers Jonathan and Martha Kent, who named him Clark Kent. Clark began developing superhuman abilities, such as incredible strength and impervious skin. His adoptive parents advised him to use his powers to benefit humanity, and he decided to fight crime as a vigilante. To protect his personal life, he changes into a colorful costume and uses the alias \"Superman\" when fighting crime. Clark resides in the fictional American city of Metropolis, where he works as a journalist for the Daily Planet. Superman's supporting characters include his love interest and fellow journalist Lois Lane, Daily Planet photographer Jimmy Olsen, and editor-in-chief Perry White, and his enemies include Brainiac, General Zod, and archenemy Lex Luthor.\n",
      "\n",
      "As for **Batman**, I searched the MCP server, but it seems that there is no information stored for him at this time.\n",
      "\n",
      "If you need further assistance or specific details about either hero, please let me know!\n"
     ]
    }
   ],
   "source": [
    "response = await collector_agent.run(\"Find all information about the hero 'Superman' from Wikipedia and save it to the MCP server. Then, find all information about the hero 'Batman' from the MCP server.\", ctx=ctx)\n",
    "print(\"Response:\")\n",
    "\n",
    "print(str(response))"
   ]
  },
  {
   "cell_type": "code",
   "execution_count": 23,
   "id": "6a78a4c0",
   "metadata": {},
   "outputs": [
    {
     "name": "stdout",
     "output_type": "stream",
     "text": [
      "Yes, there is a hero named **Superman** in the Hero server. Here are the details:\n",
      "\n",
      "- **Name:** Superman\n",
      "- **Real Name:** Kal-El\n",
      "- **Origin:** Krypton\n",
      "- **Team:** Justice League\n",
      "- **First Appearance:** Action Comics #1, 1938\n",
      "- **Superpowers:** Superhuman strength, invulnerability, flight, heat vision, x-ray vision, super speed, super breath\n",
      "- **Biography:** Superman is a superhero created by writer Jerry Siegel and artist Joe Shuster, first appearing in the comic book Action Comics #1, published in America on April 18, 1938. Superman has been regularly published in American comic books since 1938, and has been adapted to other media including radio serials, novels, films, television shows, theater, and video games. Superman was born Kal-El, on the fictional planet Krypton. As a baby, his parents Jor-El and Lara sent him to Earth in a small spaceship shortly before Krypton was destroyed in a natural cataclysm. His ship landed in the American countryside near the fictional town of Smallville, Kansas. He was found and adopted by farmers Jonathan and Martha Kent, who named him Clark Kent. Clark began developing superhuman abilities, such as incredible strength and impervious skin. His adoptive parents advised him to use his powers to benefit humanity, and he decided to fight crime as a vigilante. To protect his personal life, he changes into a colorful costume and uses the alias \"Superman\" when fighting crime. Clark resides in the fictional American city of Metropolis, where he works as a journalist for the Daily Planet. Superman's supporting characters include his love interest and fellow journalist Lois Lane, Daily Planet photographer Jimmy Olsen, and editor-in-chief Perry White, and his enemies include Brainiac, General Zod, and archenemy Lex Luthor.\n",
      "\n",
      "If you need more information or assistance, feel free to ask!\n"
     ]
    }
   ],
   "source": [
    "response = await collector_agent.run(\"Do we have any hero having name 'Superman' in our Hero server?\", ctx=ctx)\n",
    "\n",
    "print(str(response))"
   ]
  },
  {
   "cell_type": "code",
   "execution_count": null,
   "id": "d535fe45",
   "metadata": {},
   "outputs": [],
   "source": [
    "response = await collector_agent.run(\"Đã bao lâu kể từ khi superman xuất hiện ở một đầu truyện?\", ctx=ctx)\n",
    "print(str(response))"
   ]
  },
  {
   "cell_type": "code",
   "execution_count": 26,
   "id": "a3b4b2d0",
   "metadata": {},
   "outputs": [
    {
     "name": "stdout",
     "output_type": "stream",
     "text": [
      "Tôi đã xóa toàn bộ hero trong hệ thống, bao gồm cả Superman. Nếu bạn cần thêm bất kỳ sự trợ giúp nào khác, hãy cho tôi biết!\n"
     ]
    }
   ],
   "source": [
    "response = await collector_agent.run(\"Xoá toàn bộ hero trong hệ thống\", ctx=ctx)\n",
    "print(str(response))"
   ]
  },
  {
   "cell_type": "code",
   "execution_count": 28,
   "id": "b147268d",
   "metadata": {},
   "outputs": [
    {
     "name": "stdout",
     "output_type": "stream",
     "text": [
      "Giữa ngày 1 tháng 4 năm 2025 và ngày 1 tháng 3 năm 2023 có tổng cộng **762 ngày**.\n"
     ]
    }
   ],
   "source": [
    "response = await collector_agent.run(\"Giữa 2025-04-01 và 2023-03-01 có bao nhiêu ngày\", ctx=ctx)\n",
    "print(str(response))"
   ]
  }
 ],
 "metadata": {
  "kernelspec": {
   "display_name": "mcp",
   "language": "python",
   "name": "python3"
  },
  "language_info": {
   "codemirror_mode": {
    "name": "ipython",
    "version": 3
   },
   "file_extension": ".py",
   "mimetype": "text/x-python",
   "name": "python",
   "nbconvert_exporter": "python",
   "pygments_lexer": "ipython3",
   "version": "3.12.9"
  }
 },
 "nbformat": 4,
 "nbformat_minor": 5
}
